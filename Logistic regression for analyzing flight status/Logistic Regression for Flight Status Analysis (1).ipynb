{
 "cells": [
  {
   "cell_type": "markdown",
   "id": "minimal-despite",
   "metadata": {},
   "source": [
    "#### Import the needed packages for analysis"
   ]
  },
  {
   "cell_type": "code",
   "execution_count": 1,
   "id": "raised-savage",
   "metadata": {
    "scrolled": true
   },
   "outputs": [
    {
     "name": "stdout",
     "output_type": "stream",
     "text": [
      "no display found. Using non-interactive Agg backend\n"
     ]
    }
   ],
   "source": [
    "from pathlib import Path\n",
    "\n",
    "import numpy as np\n",
    "import pandas as pd\n",
    "\n",
    "from sklearn.linear_model import LogisticRegression\n",
    "from sklearn.model_selection import train_test_split\n",
    "from mord import LogisticIT\n",
    "\n",
    "import statsmodels.api as sm\n",
    "\n",
    "from dmba import classificationSummary, gainsChart, liftChart\n",
    "\n",
    "%matplotlib inline\n",
    "import matplotlib.pylab as plt"
   ]
  },
  {
   "cell_type": "markdown",
   "id": "parallel-version",
   "metadata": {},
   "source": [
    "### Upload, explore, clean, and preprocess data.\n",
    "a. Why a logistic regression model may be used in this case? Why may you not apply a multiple linear regression model in this case? Provide brief answers to both questions.\n",
    "\n",
    "b. Create a flight_df data frame by uploading the original data set into Python. Remove ‘DEST’ and ‘ORIGIN’ variables from the flight_df data frame. Convert ‘CARRIER’ and ‘FL_STATUS’ into binary variables. This portion of part 1 will not be graded.\n",
    "\n",
    "c. Why does the output variable ‘FL_STATUS’ need to be converted into binary variables for logistic regression? Briefly explain."
   ]
  },
  {
   "cell_type": "markdown",
   "id": "sought-eugene",
   "metadata": {},
   "source": [
    "#### b. Create a flight_df data frame by uploading the original data set into Python. Remove ‘DEST’ and ‘ORIGIN’ variables from the flight_df data frame. Convert ‘CARRIER’ and ‘FL_STATUS’ into binary variables. This portion of part 1 will not be graded."
   ]
  },
  {
   "cell_type": "code",
   "execution_count": 2,
   "id": "accessible-subcommittee",
   "metadata": {},
   "outputs": [
    {
     "data": {
      "text/html": [
       "<div>\n",
       "<style scoped>\n",
       "    .dataframe tbody tr th:only-of-type {\n",
       "        vertical-align: middle;\n",
       "    }\n",
       "\n",
       "    .dataframe tbody tr th {\n",
       "        vertical-align: top;\n",
       "    }\n",
       "\n",
       "    .dataframe thead th {\n",
       "        text-align: right;\n",
       "    }\n",
       "</style>\n",
       "<table border=\"1\" class=\"dataframe\">\n",
       "  <thead>\n",
       "    <tr style=\"text-align: right;\">\n",
       "      <th></th>\n",
       "      <th>SCH_TIME</th>\n",
       "      <th>CARRIER</th>\n",
       "      <th>DEP_TIME</th>\n",
       "      <th>DEST</th>\n",
       "      <th>DISTANCE</th>\n",
       "      <th>FL_NUM</th>\n",
       "      <th>ORIGIN</th>\n",
       "      <th>WEATHER</th>\n",
       "      <th>WK_DAY</th>\n",
       "      <th>MTH_DAY</th>\n",
       "      <th>FL_STATUS</th>\n",
       "    </tr>\n",
       "  </thead>\n",
       "  <tbody>\n",
       "    <tr>\n",
       "      <th>0</th>\n",
       "      <td>1455</td>\n",
       "      <td>OH</td>\n",
       "      <td>1455</td>\n",
       "      <td>JFK</td>\n",
       "      <td>184</td>\n",
       "      <td>5935</td>\n",
       "      <td>BWI</td>\n",
       "      <td>0</td>\n",
       "      <td>4</td>\n",
       "      <td>1</td>\n",
       "      <td>ontime</td>\n",
       "    </tr>\n",
       "    <tr>\n",
       "      <th>1</th>\n",
       "      <td>1640</td>\n",
       "      <td>DH</td>\n",
       "      <td>1640</td>\n",
       "      <td>JFK</td>\n",
       "      <td>213</td>\n",
       "      <td>6155</td>\n",
       "      <td>DCA</td>\n",
       "      <td>0</td>\n",
       "      <td>4</td>\n",
       "      <td>1</td>\n",
       "      <td>ontime</td>\n",
       "    </tr>\n",
       "    <tr>\n",
       "      <th>2</th>\n",
       "      <td>1245</td>\n",
       "      <td>DH</td>\n",
       "      <td>1245</td>\n",
       "      <td>LGA</td>\n",
       "      <td>229</td>\n",
       "      <td>7208</td>\n",
       "      <td>IAD</td>\n",
       "      <td>0</td>\n",
       "      <td>4</td>\n",
       "      <td>1</td>\n",
       "      <td>ontime</td>\n",
       "    </tr>\n",
       "    <tr>\n",
       "      <th>3</th>\n",
       "      <td>1715</td>\n",
       "      <td>DH</td>\n",
       "      <td>1709</td>\n",
       "      <td>LGA</td>\n",
       "      <td>229</td>\n",
       "      <td>7215</td>\n",
       "      <td>IAD</td>\n",
       "      <td>0</td>\n",
       "      <td>4</td>\n",
       "      <td>1</td>\n",
       "      <td>ontime</td>\n",
       "    </tr>\n",
       "    <tr>\n",
       "      <th>4</th>\n",
       "      <td>1039</td>\n",
       "      <td>DH</td>\n",
       "      <td>1035</td>\n",
       "      <td>LGA</td>\n",
       "      <td>229</td>\n",
       "      <td>7792</td>\n",
       "      <td>IAD</td>\n",
       "      <td>0</td>\n",
       "      <td>4</td>\n",
       "      <td>1</td>\n",
       "      <td>ontime</td>\n",
       "    </tr>\n",
       "  </tbody>\n",
       "</table>\n",
       "</div>"
      ],
      "text/plain": [
       "   SCH_TIME CARRIER  DEP_TIME DEST  DISTANCE  FL_NUM ORIGIN  WEATHER  WK_DAY  \\\n",
       "0      1455      OH      1455  JFK       184    5935    BWI        0       4   \n",
       "1      1640      DH      1640  JFK       213    6155    DCA        0       4   \n",
       "2      1245      DH      1245  LGA       229    7208    IAD        0       4   \n",
       "3      1715      DH      1709  LGA       229    7215    IAD        0       4   \n",
       "4      1039      DH      1035  LGA       229    7792    IAD        0       4   \n",
       "\n",
       "   MTH_DAY FL_STATUS  \n",
       "0        1    ontime  \n",
       "1        1    ontime  \n",
       "2        1    ontime  \n",
       "3        1    ontime  \n",
       "4        1    ontime  "
      ]
     },
     "execution_count": 2,
     "metadata": {},
     "output_type": "execute_result"
    }
   ],
   "source": [
    "# Create a flight_df \n",
    "flight_df= pd.read_csv('FlightDelays.csv')\n",
    "# Display the first 10 records \n",
    "flight_df.head()"
   ]
  },
  {
   "cell_type": "code",
   "execution_count": 3,
   "id": "appreciated-samba",
   "metadata": {},
   "outputs": [
    {
     "data": {
      "text/plain": [
       "SCH_TIME     2201\n",
       "CARRIER      2201\n",
       "DEP_TIME     2201\n",
       "DEST         2201\n",
       "DISTANCE     2201\n",
       "FL_NUM       2201\n",
       "ORIGIN       2201\n",
       "WEATHER      2201\n",
       "WK_DAY       2201\n",
       "MTH_DAY      2201\n",
       "FL_STATUS    2201\n",
       "dtype: int64"
      ]
     },
     "execution_count": 3,
     "metadata": {},
     "output_type": "execute_result"
    }
   ],
   "source": [
    "# Check if there are any missing data in any column \n",
    "flight_df.count()"
   ]
  },
  {
   "cell_type": "code",
   "execution_count": 4,
   "id": "otherwise-content",
   "metadata": {},
   "outputs": [
    {
     "data": {
      "text/html": [
       "<div>\n",
       "<style scoped>\n",
       "    .dataframe tbody tr th:only-of-type {\n",
       "        vertical-align: middle;\n",
       "    }\n",
       "\n",
       "    .dataframe tbody tr th {\n",
       "        vertical-align: top;\n",
       "    }\n",
       "\n",
       "    .dataframe thead th {\n",
       "        text-align: right;\n",
       "    }\n",
       "</style>\n",
       "<table border=\"1\" class=\"dataframe\">\n",
       "  <thead>\n",
       "    <tr style=\"text-align: right;\">\n",
       "      <th></th>\n",
       "      <th>SCH_TIME</th>\n",
       "      <th>CARRIER</th>\n",
       "      <th>DEP_TIME</th>\n",
       "      <th>DISTANCE</th>\n",
       "      <th>FL_NUM</th>\n",
       "      <th>WEATHER</th>\n",
       "      <th>WK_DAY</th>\n",
       "      <th>MTH_DAY</th>\n",
       "      <th>FL_STATUS</th>\n",
       "    </tr>\n",
       "  </thead>\n",
       "  <tbody>\n",
       "    <tr>\n",
       "      <th>0</th>\n",
       "      <td>1455</td>\n",
       "      <td>OH</td>\n",
       "      <td>1455</td>\n",
       "      <td>184</td>\n",
       "      <td>5935</td>\n",
       "      <td>0</td>\n",
       "      <td>4</td>\n",
       "      <td>1</td>\n",
       "      <td>ontime</td>\n",
       "    </tr>\n",
       "    <tr>\n",
       "      <th>1</th>\n",
       "      <td>1640</td>\n",
       "      <td>DH</td>\n",
       "      <td>1640</td>\n",
       "      <td>213</td>\n",
       "      <td>6155</td>\n",
       "      <td>0</td>\n",
       "      <td>4</td>\n",
       "      <td>1</td>\n",
       "      <td>ontime</td>\n",
       "    </tr>\n",
       "    <tr>\n",
       "      <th>2</th>\n",
       "      <td>1245</td>\n",
       "      <td>DH</td>\n",
       "      <td>1245</td>\n",
       "      <td>229</td>\n",
       "      <td>7208</td>\n",
       "      <td>0</td>\n",
       "      <td>4</td>\n",
       "      <td>1</td>\n",
       "      <td>ontime</td>\n",
       "    </tr>\n",
       "    <tr>\n",
       "      <th>3</th>\n",
       "      <td>1715</td>\n",
       "      <td>DH</td>\n",
       "      <td>1709</td>\n",
       "      <td>229</td>\n",
       "      <td>7215</td>\n",
       "      <td>0</td>\n",
       "      <td>4</td>\n",
       "      <td>1</td>\n",
       "      <td>ontime</td>\n",
       "    </tr>\n",
       "    <tr>\n",
       "      <th>4</th>\n",
       "      <td>1039</td>\n",
       "      <td>DH</td>\n",
       "      <td>1035</td>\n",
       "      <td>229</td>\n",
       "      <td>7792</td>\n",
       "      <td>0</td>\n",
       "      <td>4</td>\n",
       "      <td>1</td>\n",
       "      <td>ontime</td>\n",
       "    </tr>\n",
       "  </tbody>\n",
       "</table>\n",
       "</div>"
      ],
      "text/plain": [
       "   SCH_TIME CARRIER  DEP_TIME  DISTANCE  FL_NUM  WEATHER  WK_DAY  MTH_DAY  \\\n",
       "0      1455      OH      1455       184    5935        0       4        1   \n",
       "1      1640      DH      1640       213    6155        0       4        1   \n",
       "2      1245      DH      1245       229    7208        0       4        1   \n",
       "3      1715      DH      1709       229    7215        0       4        1   \n",
       "4      1039      DH      1035       229    7792        0       4        1   \n",
       "\n",
       "  FL_STATUS  \n",
       "0    ontime  \n",
       "1    ontime  \n",
       "2    ontime  \n",
       "3    ontime  \n",
       "4    ontime  "
      ]
     },
     "execution_count": 4,
     "metadata": {},
     "output_type": "execute_result"
    }
   ],
   "source": [
    "# Remove ‘DEST’ and ‘ORIGIN’ variables from the flight_df data frame\n",
    "flight_df = flight_df.drop(columns=['DEST', 'ORIGIN'])\n",
    "\n",
    "# Display the first 10 records after removing \"DIST\", \"ORIGIN\"\n",
    "flight_df.head()\n"
   ]
  },
  {
   "cell_type": "code",
   "execution_count": 5,
   "id": "skilled-preservation",
   "metadata": {},
   "outputs": [
    {
     "data": {
      "text/plain": [
       "SCH_TIME      int64\n",
       "CARRIER      object\n",
       "DEP_TIME      int64\n",
       "DISTANCE      int64\n",
       "FL_NUM        int64\n",
       "WEATHER       int64\n",
       "WK_DAY        int64\n",
       "MTH_DAY       int64\n",
       "FL_STATUS    object\n",
       "dtype: object"
      ]
     },
     "execution_count": 5,
     "metadata": {},
     "output_type": "execute_result"
    }
   ],
   "source": [
    "# Check variables type\n",
    "flight_df.dtypes\n",
    "\n",
    "\n"
   ]
  },
  {
   "cell_type": "code",
   "execution_count": 6,
   "id": "ceramic-spray",
   "metadata": {
    "scrolled": true
   },
   "outputs": [
    {
     "data": {
      "text/plain": [
       "SCH_TIME        int64\n",
       "CARRIER      category\n",
       "DEP_TIME        int64\n",
       "DISTANCE        int64\n",
       "FL_NUM          int64\n",
       "WEATHER         int64\n",
       "WK_DAY          int64\n",
       "MTH_DAY         int64\n",
       "FL_STATUS    category\n",
       "dtype: object"
      ]
     },
     "execution_count": 6,
     "metadata": {},
     "output_type": "execute_result"
    }
   ],
   "source": [
    "# Convert ‘CARRIER’ and ‘FL_STATUS’ into binary variables.. \n",
    "for x in ['CARRIER', 'FL_STATUS']:\n",
    "    flight_df[x] = flight_df[x].astype('category')\n",
    "    new_categories = {'ontime': 1, 'delayed' : 0}\n",
    "flight_df.FL_STATUS.cat.rename_categories(new_categories, inplace=True)\n",
    "\n",
    "# Display the variable types after conversion\n",
    "flight_df.dtypes\n"
   ]
  },
  {
   "cell_type": "code",
   "execution_count": 7,
   "id": "perfect-target",
   "metadata": {},
   "outputs": [
    {
     "name": "stdout",
     "output_type": "stream",
     "text": [
      " \n",
      "Category levels and changed variable type:\n",
      "Index(['CO', 'DH', 'DL', 'MQ', 'OH', 'RU', 'UA', 'US'], dtype='object')\n",
      "category\n",
      "Int64Index([0, 1], dtype='int64')\n",
      "category\n"
     ]
    }
   ],
   "source": [
    "# Display category levels (attributes) and category type.\n",
    "print(' ')\n",
    "print('Category levels and changed variable type:')\n",
    "print(flight_df.CARRIER.cat.categories)  \n",
    "print(flight_df.CARRIER.dtype) \n",
    "print(flight_df.FL_STATUS.cat.categories)  \n",
    "print(flight_df.FL_STATUS.dtype)\n"
   ]
  },
  {
   "cell_type": "code",
   "execution_count": 8,
   "id": "dried-bunny",
   "metadata": {},
   "outputs": [
    {
     "data": {
      "text/plain": [
       "Index(['SCH_TIME', 'DEP_TIME', 'DISTANCE', 'FL_NUM', 'WEATHER', 'WK_DAY',\n",
       "       'MTH_DAY', 'FL_STATUS', 'CARRIER_DH', 'CARRIER_DL', 'CARRIER_MQ',\n",
       "       'CARRIER_OH', 'CARRIER_RU', 'CARRIER_UA', 'CARRIER_US'],\n",
       "      dtype='object')"
      ]
     },
     "execution_count": 8,
     "metadata": {},
     "output_type": "execute_result"
    }
   ],
   "source": [
    "# Since we have 8 category variables in CARRIER and FL_STATUS\n",
    "#we will create 7 dummies and drop \"CO\" and one dummy in FL_STATUS\n",
    "# Use drop_first=True to drop the first dummy variable for 'None'.\n",
    "flight_df = pd.get_dummies(flight_df, prefix_sep='_', \n",
    "                            drop_first=True, columns=['CARRIER'])\n",
    "#check the columns after transfering to binary variables \n",
    "flight_df.columns"
   ]
  },
  {
   "cell_type": "markdown",
   "id": "practical-colleague",
   "metadata": {},
   "source": [
    "### 2- Develop a logistic regression model for the Flight Delays case.\n",
    "a. Develop in Python the predictor variables (14 variables) and outcome variable (‘FL_STATUS’) and partition the data set (60% for training and 40% for validation partitions). Train a logistic regression model using LogisticRegression() with the training data set and display in Python the model’s parameters (intercept and regression coefficients). Provide these parameters in your report and also present the mathematical equation of the trained logistic regression model.\n",
    "\n",
    "b. In Python, make predictions and identify probabilities p(0) and p(1) for the validation data set. For the first 20 records in the validation data set, display a table that contains the actual and predicted flight arrival status, and probabilities p(0) and p(1). Present this table in your report, and comment on the predicted vs. actual flight arrival status.\n",
    "\n",
    "c. Identify and display in Python confusion matrices for the training and validation partitions. Present them in your report and comment on accuracy (misclassification) rate for both partitions and explain if there is a possibility of overfitting.\n",
    "\n",
    "d. Create and display in Python the Lift chart only for ‘delayed’ flight status. For that, use p(0) for .sort_values() and p(0) in liftChart(). Also use ncols=1 in plt.subplots() for a single plot, and remove ax=axes[1] from liftChart(). Present this Lift chart in your report and briefly explain what the chart demonstrates and what conclusion(s) can be made."
   ]
  },
  {
   "cell_type": "markdown",
   "id": "forward-paraguay",
   "metadata": {},
   "source": [
    "#### a. Develop in Python the predictor variables (14 variables) and outcome variable (‘FL_STATUS’) and partition the data set (60% for training and 40% for validation partitions). Train a logistic regression model using LogisticRegression() with the training data set and display in Python the model’s parameters (intercept and regression coefficients). Provide these parameters in your report and also present the mathematical equation of the trained logistic regression model."
   ]
  },
  {
   "cell_type": "code",
   "execution_count": 9,
   "id": "industrial-major",
   "metadata": {},
   "outputs": [
    {
     "name": "stdout",
     "output_type": "stream",
     "text": [
      "Parameters of Logistic Regresion Model with Multiple Predictors\n",
      "Intercept: 0.249\n",
      "Coefficients for Predictors\n",
      "        SCH_TIME  DEP_TIME  DISTANCE  FL_NUM  WEATHER  WK_DAY  MTH_DAY  \\\n",
      "Coeff:     0.033    -0.033     0.007     0.0   -0.756   0.081   -0.022   \n",
      "\n",
      "        CARRIER_DH  CARRIER_DL  CARRIER_MQ  CARRIER_OH  CARRIER_RU  \\\n",
      "Coeff:      -0.172       1.049      -1.068       0.702       0.121   \n",
      "\n",
      "        CARRIER_UA  CARRIER_US  \n",
      "Coeff:        0.22       0.022  \n"
     ]
    }
   ],
   "source": [
    "# Create predictors X and outcome y variable.\n",
    "X = flight_df.drop(columns=['FL_STATUS'])\n",
    "y = flight_df['FL_STATUS']\n",
    "# Partition data into training (60% or 0.6) and validation(40% or 0.4)\n",
    "# of the flight_df data frame.\n",
    "train_X, valid_X, train_y, valid_y = train_test_split(X, y, \n",
    "                            test_size=0.4, random_state=1)\n",
    "\n",
    "# Using LogisticRegression() function, fit multiple predictors logistic \n",
    "# regression for training partition. Set penalty='l2' for regularization. \n",
    "# Regularization is any modification to a learning algorithm that is \n",
    "# intended to reduce its generalization error but not its training error.\n",
    "# Regularization can be used to train models that generalize \n",
    "# better on unseen data by preventing the algorithm from overfitting \n",
    "# the training data set.\n",
    "# Parameter C=1e42 and penalty=l2 lead to ordinal logistic regression. \n",
    "# solver='liblinear' is used for automated selection of the best parameters\n",
    "# of the logistis regression; recommended for large-scale classification.\n",
    "log_reg = LogisticRegression(penalty='l2', C=1e42, solver='liblinear')\n",
    "log_reg.fit(train_X, train_y)\n",
    "# Show intercept and coefficients of the multiple predictors' logistic model.\n",
    "print('Parameters of Logistic Regresion Model with Multiple Predictors')\n",
    "print('Intercept:', np.round(log_reg.intercept_[0], decimals=3))\n",
    "print('Coefficients for Predictors')\n",
    "print(pd.DataFrame({'Coeff:': np.round(log_reg.coef_[0], decimals=3)}, \n",
    "                    index=X.columns).transpose())\n"
   ]
  },
  {
   "cell_type": "markdown",
   "id": "least-delivery",
   "metadata": {},
   "source": [
    "##### The mathematical equation of the trained logistic regression model\n",
    "##### logit= 0.051 + 0.033SCH_TIME - 0.034DEP_TIME + 0.009DISTANCE + 0.0FL_NUM - 0.247WEATHER + 0.097WK_DAY - 0.021MTH_DAY + 0.035CARRIER_DH + 0.782CARRIER_DL - 1.054CARRIER_MQ + 0.236CARRIER_OH - 0.05CARRIER_RU + 0.053CARRIER_UA - 0.043CARRIER_US"
   ]
  },
  {
   "cell_type": "markdown",
   "id": "minimal-mayor",
   "metadata": {},
   "source": [
    "#### b. In Python, make predictions and identify probabilities p(0) and p(1) for the validation data set. For the first 20 records in the validation data set, display a table that contains the actual and predicted flight arrival status, and probabilities p(0) and p(1). Present this table in your report, and comment on the predicted vs. actual flight arrival status."
   ]
  },
  {
   "cell_type": "code",
   "execution_count": 10,
   "id": "rental-stereo",
   "metadata": {},
   "outputs": [
    {
     "name": "stdout",
     "output_type": "stream",
     "text": [
      "Classification for Validation Partition\n",
      "     Actual  Classification    p(0)    p(1)\n",
      "1276      1               1  0.1436  0.8564\n",
      "1446      1               1  0.0727  0.9273\n",
      "335       1               1  0.0770  0.9230\n",
      "1458      1               1  0.1088  0.8912\n",
      "2038      1               1  0.0845  0.9155\n",
      "1314      1               1  0.0718  0.9282\n",
      "389       1               1  0.0770  0.9230\n",
      "1639      1               1  0.1154  0.8846\n",
      "2004      1               1  0.0910  0.9090\n",
      "403       1               1  0.3032  0.6968\n",
      "979       1               1  0.0534  0.9466\n",
      "65        1               1  0.0727  0.9273\n",
      "2105      1               1  0.1325  0.8675\n",
      "1162      1               1  0.1320  0.8680\n",
      "572       1               1  0.3141  0.6859\n",
      "1026      0               1  0.0600  0.9400\n",
      "1044      1               1  0.4876  0.5124\n",
      "1846      0               1  0.4822  0.5178\n",
      "1005      1               1  0.1347  0.8653\n",
      "1677      1               1  0.0518  0.9482\n"
     ]
    }
   ],
   "source": [
    "# Make predictions for validation set using single\n",
    "# predictor logistic model. \n",
    "\n",
    "# Predict single logistic model's results (0 or 1)\n",
    "# for validation set.\n",
    "log_pred = log_reg.predict(valid_X)\n",
    "\n",
    "\n",
    "# Predict single logistic model's probabilities p(0)\n",
    "# and p(1) for validation set.\n",
    "log_prob = np.round(log_reg.predict_proba(valid_X), \n",
    "                           decimals=4)\n",
    "\n",
    "# Create data frame to display simple logistic regression\n",
    "# resuts for validation set. \n",
    "log_result = pd.DataFrame({'Actual': valid_y, \n",
    "                        'Classification': log_pred,     \n",
    "                        'p(0)': [p[0] for p in log_prob],\n",
    "                        'p(1)': [p[1] for p in log_prob],\n",
    "                        })\n",
    "print('Classification for Validation Partition')\n",
    "print(log_result.head(20))"
   ]
  },
  {
   "cell_type": "markdown",
   "id": "featured-skirt",
   "metadata": {},
   "source": [
    "#### c. Identify and display in Python confusion matrices for the training and validation partitions. Present them in your report and comment on accuracy (misclassification) rate for both partitions and explain if there is a possibility of overfitting."
   ]
  },
  {
   "cell_type": "code",
   "execution_count": 11,
   "id": "atmospheric-grammar",
   "metadata": {},
   "outputs": [
    {
     "name": "stdout",
     "output_type": "stream",
     "text": [
      "Training Partition\n",
      "Confusion Matrix (Accuracy 0.9038)\n",
      "\n",
      "       Prediction\n",
      "Actual    0    1\n",
      "     0  142  119\n",
      "     1    8 1051\n",
      "\n",
      "Validation Partition\n",
      "Confusion Matrix (Accuracy 0.9069)\n",
      "\n",
      "       Prediction\n",
      "Actual   0   1\n",
      "     0  91  76\n",
      "     1   6 708\n"
     ]
    }
   ],
   "source": [
    "# Confusion matrices for the training and validation partitions. \n",
    "\n",
    "# Confusion matrix for training partition. \n",
    "print('Training Partition')\n",
    "classificationSummary(train_y, log_reg.predict(train_X))\n",
    "\n",
    "# Confusion matrix for validation partition. \n",
    "print()\n",
    "print('Validation Partition')\n",
    "classificationSummary(valid_y, log_reg.predict(valid_X))"
   ]
  },
  {
   "cell_type": "markdown",
   "id": "fuzzy-insertion",
   "metadata": {},
   "source": [
    "#### d. Create and display in Python the Lift chart only for ‘delayed’ flight status. For that, use p(0) for .sort_values() and p(0) in liftChart(). Also use ncols=1 in plt.subplots() for a single plot, and remove ax=axes[1] from liftChart(). Present this Lift chart in your report and briefly explain what the chart demonstrates and what conclusion(s) can be made."
   ]
  },
  {
   "cell_type": "code",
   "execution_count": 15,
   "id": "paperback-valley",
   "metadata": {},
   "outputs": [
    {
     "data": {
      "image/png": "[encoded data removed]",
      "text/plain": [
       "<Figure size 720x288 with 1 Axes>"
      ]
     },
     "metadata": {
      "needs_background": "light"
     },
     "output_type": "display_data"
    }
   ],
   "source": [
    "# Develop and display Gains chart and Lift chart. \n",
    "\n",
    "# Create a new df data frame from logit_result data frame\n",
    "# that is sorted by p(1) in descending order.  \n",
    "df = log_result.sort_values(by=['p(0)'], ascending=False)\n",
    "\n",
    "# Create a data plot with two plots (ncols=2) \n",
    "# back-to-back (nrows=1).\n",
    "fig, axes = plt.subplots(nrows=1, ncols=1, figsize=(10, 4))\n",
    "\n",
    "# Using gainsChart() function, create Gains chart. \n",
    "# In the Gains chart, the 'lift' over the base curve \n",
    "# indicates for a given number of cases (on x-axis), \n",
    "# the additional responders that you can identify \n",
    "# by using the logistic regression model.\n",
    "# gainsChart(df.Actual, ax=axes[0], color='Blue')\n",
    "\n",
    "# Using liftChart() function, create decile-wise Lift chart. \n",
    "# In this Lift chart, taking the 10% of the records \n",
    "# that are ranked by the model as 'most probable 1's' \n",
    "# yields 7.8 times as many 1's as would simply selecting \n",
    "# 10% of the records at random.\n",
    "liftChart(df['p(0)'], title='LIft Chart')\n",
    " \n",
    "# Display the charts. \n",
    "plt.tight_layout()\n",
    "plt.show()"
   ]
  },
  {
   "cell_type": "markdown",
   "id": "outer-spray",
   "metadata": {},
   "source": [
    "### 3. Compare results of logistic regression model vs. classification tree model for the same data set.\n",
    "\n",
    "a. Present and compare in your report the validation confusion matrix for the logistic regression model in 2c of this case versus the validation confusion matrix using the GridSearchCV() algorithm for the classification tree in the previous case study. Using the accuracy value (misclassification rate), which model would you recommend applying for classification (prediction) of flight arrival status? Briefly explain your answer."
   ]
  },
  {
   "cell_type": "code",
   "execution_count": null,
   "id": "vertical-stroke",
   "metadata": {},
   "outputs": [],
   "source": []
  },
  {
   "cell_type": "code",
   "execution_count": null,
   "id": "toxic-profession",
   "metadata": {},
   "outputs": [],
   "source": []
  },
  {
   "cell_type": "code",
   "execution_count": null,
   "id": "elect-premises",
   "metadata": {},
   "outputs": [],
   "source": []
  }
 ],
 "metadata": {
  "kernelspec": {
   "display_name": "Python 3",
   "language": "python",
   "name": "python3"
  },
  "language_info": {
   "codemirror_mode": {
    "name": "ipython",
    "version": 3
   },
   "file_extension": ".py",
   "mimetype": "text/x-python",
   "name": "python",
   "nbconvert_exporter": "python",
   "pygments_lexer": "ipython3",
   "version": "3.7.10"
  }
 },
 "nbformat": 4,
 "nbformat_minor": 5
}
