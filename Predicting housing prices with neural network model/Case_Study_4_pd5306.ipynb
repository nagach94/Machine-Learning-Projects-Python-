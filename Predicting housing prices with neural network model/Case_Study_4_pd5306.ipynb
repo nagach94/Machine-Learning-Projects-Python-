{
 "cells": [
  {
   "cell_type": "markdown",
   "id": "fe336134",
   "metadata": {},
   "source": [
    "# CASE_STUDY_4_NEURAL_NETWORKS"
   ]
  },
  {
   "cell_type": "code",
   "execution_count": 1,
   "id": "0f4abc51",
   "metadata": {},
   "outputs": [],
   "source": [
    "from pathlib import Path # to interact with file system.\n",
    "\n",
    "import numpy as np # for working with arrays.\n",
    "import pandas as pd # for working with data frames (tables).\n",
    "import seaborn as sns # for plotting box plots to detect outliers\n",
    "\n",
    "from sklearn.model_selection import train_test_split # for data partition.\n",
    "from sklearn.metrics import r2_score # to identify r_square for regression model.\n",
    "\n",
    "from sklearn.model_selection import cross_val_score, GridSearchCV\n",
    "from sklearn.neural_network import MLPClassifier, MLPRegressor \n",
    "from sklearn.preprocessing import StandardScaler\n",
    "\n",
    "from mord import LogisticIT\n",
    "\n",
    "%matplotlib inline \n",
    "import matplotlib.pylab as plt # for building and showing graphs.\n",
    "\n",
    "\n",
    "from dmba import regressionSummary, exhaustive_search\n",
    "from dmba import backward_elimination, forward_selection, stepwise_selection\n",
    "from dmba import adjusted_r2_score, AIC_score, BIC_score"
   ]
  },
  {
   "cell_type": "code",
   "execution_count": 2,
   "id": "fe50fb5c",
   "metadata": {},
   "outputs": [],
   "source": [
    "boston_df = pd.read_csv(\"BostonHousing.csv\")"
   ]
  },
  {
   "cell_type": "code",
   "execution_count": 3,
   "id": "333ef79d",
   "metadata": {},
   "outputs": [
    {
     "name": "stdout",
     "output_type": "stream",
     "text": [
      "Dataframe dimensions, i.e. Number of rows and columns in data set: (506, 14)\n"
     ]
    }
   ],
   "source": [
    "print('Dataframe dimensions, i.e. Number of rows and columns in data set:', \n",
    "      boston_df.shape)"
   ]
  },
  {
   "cell_type": "code",
   "execution_count": 4,
   "id": "8a86e357",
   "metadata": {},
   "outputs": [
    {
     "data": {
      "text/html": [
       "<div>\n",
       "<style scoped>\n",
       "    .dataframe tbody tr th:only-of-type {\n",
       "        vertical-align: middle;\n",
       "    }\n",
       "\n",
       "    .dataframe tbody tr th {\n",
       "        vertical-align: top;\n",
       "    }\n",
       "\n",
       "    .dataframe thead th {\n",
       "        text-align: right;\n",
       "    }\n",
       "</style>\n",
       "<table border=\"1\" class=\"dataframe\">\n",
       "  <thead>\n",
       "    <tr style=\"text-align: right;\">\n",
       "      <th></th>\n",
       "      <th>CRIME</th>\n",
       "      <th>ZONE</th>\n",
       "      <th>INDUST</th>\n",
       "      <th>CHAR RIV</th>\n",
       "      <th>NIT OXIDE</th>\n",
       "      <th>ROOMS</th>\n",
       "      <th>AGE</th>\n",
       "      <th>DISTANCE</th>\n",
       "      <th>RADIAL</th>\n",
       "      <th>TAX</th>\n",
       "      <th>ST RATIO</th>\n",
       "      <th>LOW STAT</th>\n",
       "      <th>MVALUE</th>\n",
       "      <th>C MVALUE</th>\n",
       "    </tr>\n",
       "  </thead>\n",
       "  <tbody>\n",
       "    <tr>\n",
       "      <th>0</th>\n",
       "      <td>0.00632</td>\n",
       "      <td>18.0</td>\n",
       "      <td>2.31</td>\n",
       "      <td>N</td>\n",
       "      <td>0.538</td>\n",
       "      <td>6.575</td>\n",
       "      <td>65.2</td>\n",
       "      <td>4.0900</td>\n",
       "      <td>1</td>\n",
       "      <td>296</td>\n",
       "      <td>15.3</td>\n",
       "      <td>4.98</td>\n",
       "      <td>24.0</td>\n",
       "      <td>No</td>\n",
       "    </tr>\n",
       "    <tr>\n",
       "      <th>1</th>\n",
       "      <td>0.02731</td>\n",
       "      <td>0.0</td>\n",
       "      <td>7.07</td>\n",
       "      <td>N</td>\n",
       "      <td>0.469</td>\n",
       "      <td>6.421</td>\n",
       "      <td>78.9</td>\n",
       "      <td>4.9671</td>\n",
       "      <td>2</td>\n",
       "      <td>242</td>\n",
       "      <td>17.8</td>\n",
       "      <td>9.14</td>\n",
       "      <td>21.6</td>\n",
       "      <td>No</td>\n",
       "    </tr>\n",
       "    <tr>\n",
       "      <th>2</th>\n",
       "      <td>0.02729</td>\n",
       "      <td>0.0</td>\n",
       "      <td>7.07</td>\n",
       "      <td>N</td>\n",
       "      <td>0.469</td>\n",
       "      <td>7.185</td>\n",
       "      <td>61.1</td>\n",
       "      <td>4.9671</td>\n",
       "      <td>2</td>\n",
       "      <td>242</td>\n",
       "      <td>17.8</td>\n",
       "      <td>4.03</td>\n",
       "      <td>34.7</td>\n",
       "      <td>Yes</td>\n",
       "    </tr>\n",
       "    <tr>\n",
       "      <th>3</th>\n",
       "      <td>0.03237</td>\n",
       "      <td>0.0</td>\n",
       "      <td>2.18</td>\n",
       "      <td>N</td>\n",
       "      <td>0.458</td>\n",
       "      <td>6.998</td>\n",
       "      <td>45.8</td>\n",
       "      <td>6.0622</td>\n",
       "      <td>3</td>\n",
       "      <td>222</td>\n",
       "      <td>18.7</td>\n",
       "      <td>2.94</td>\n",
       "      <td>33.4</td>\n",
       "      <td>Yes</td>\n",
       "    </tr>\n",
       "    <tr>\n",
       "      <th>4</th>\n",
       "      <td>0.06905</td>\n",
       "      <td>0.0</td>\n",
       "      <td>2.18</td>\n",
       "      <td>N</td>\n",
       "      <td>0.458</td>\n",
       "      <td>7.147</td>\n",
       "      <td>54.2</td>\n",
       "      <td>6.0622</td>\n",
       "      <td>3</td>\n",
       "      <td>222</td>\n",
       "      <td>18.7</td>\n",
       "      <td>5.33</td>\n",
       "      <td>36.2</td>\n",
       "      <td>Yes</td>\n",
       "    </tr>\n",
       "  </tbody>\n",
       "</table>\n",
       "</div>"
      ],
      "text/plain": [
       "     CRIME  ZONE  INDUST CHAR RIV  NIT OXIDE  ROOMS   AGE  DISTANCE  RADIAL  \\\n",
       "0  0.00632  18.0    2.31        N      0.538  6.575  65.2    4.0900       1   \n",
       "1  0.02731   0.0    7.07        N      0.469  6.421  78.9    4.9671       2   \n",
       "2  0.02729   0.0    7.07        N      0.469  7.185  61.1    4.9671       2   \n",
       "3  0.03237   0.0    2.18        N      0.458  6.998  45.8    6.0622       3   \n",
       "4  0.06905   0.0    2.18        N      0.458  7.147  54.2    6.0622       3   \n",
       "\n",
       "   TAX  ST RATIO  LOW STAT  MVALUE C MVALUE  \n",
       "0  296      15.3      4.98    24.0       No  \n",
       "1  242      17.8      9.14    21.6       No  \n",
       "2  242      17.8      4.03    34.7      Yes  \n",
       "3  222      18.7      2.94    33.4      Yes  \n",
       "4  222      18.7      5.33    36.2      Yes  "
      ]
     },
     "execution_count": 4,
     "metadata": {},
     "output_type": "execute_result"
    }
   ],
   "source": [
    "boston_df.head()"
   ]
  },
  {
   "cell_type": "code",
   "execution_count": 5,
   "id": "fc9a21dc",
   "metadata": {},
   "outputs": [
    {
     "data": {
      "text/html": [
       "<div>\n",
       "<style scoped>\n",
       "    .dataframe tbody tr th:only-of-type {\n",
       "        vertical-align: middle;\n",
       "    }\n",
       "\n",
       "    .dataframe tbody tr th {\n",
       "        vertical-align: top;\n",
       "    }\n",
       "\n",
       "    .dataframe thead th {\n",
       "        text-align: right;\n",
       "    }\n",
       "</style>\n",
       "<table border=\"1\" class=\"dataframe\">\n",
       "  <thead>\n",
       "    <tr style=\"text-align: right;\">\n",
       "      <th></th>\n",
       "      <th>CRIME</th>\n",
       "      <th>ZONE</th>\n",
       "      <th>INDUST</th>\n",
       "      <th>CHAR RIV</th>\n",
       "      <th>NIT OXIDE</th>\n",
       "      <th>ROOMS</th>\n",
       "      <th>AGE</th>\n",
       "      <th>DISTANCE</th>\n",
       "      <th>RADIAL</th>\n",
       "      <th>TAX</th>\n",
       "      <th>ST RATIO</th>\n",
       "      <th>LOW STAT</th>\n",
       "      <th>MVALUE</th>\n",
       "      <th>C MVALUE</th>\n",
       "    </tr>\n",
       "  </thead>\n",
       "  <tbody>\n",
       "    <tr>\n",
       "      <th>501</th>\n",
       "      <td>0.06263</td>\n",
       "      <td>0.0</td>\n",
       "      <td>11.93</td>\n",
       "      <td>N</td>\n",
       "      <td>0.573</td>\n",
       "      <td>6.593</td>\n",
       "      <td>69.1</td>\n",
       "      <td>2.4786</td>\n",
       "      <td>1</td>\n",
       "      <td>273</td>\n",
       "      <td>21.0</td>\n",
       "      <td>9.67</td>\n",
       "      <td>22.4</td>\n",
       "      <td>No</td>\n",
       "    </tr>\n",
       "    <tr>\n",
       "      <th>502</th>\n",
       "      <td>0.04527</td>\n",
       "      <td>0.0</td>\n",
       "      <td>11.93</td>\n",
       "      <td>N</td>\n",
       "      <td>0.573</td>\n",
       "      <td>6.120</td>\n",
       "      <td>76.7</td>\n",
       "      <td>2.2875</td>\n",
       "      <td>1</td>\n",
       "      <td>273</td>\n",
       "      <td>21.0</td>\n",
       "      <td>9.08</td>\n",
       "      <td>20.6</td>\n",
       "      <td>No</td>\n",
       "    </tr>\n",
       "    <tr>\n",
       "      <th>503</th>\n",
       "      <td>0.06076</td>\n",
       "      <td>0.0</td>\n",
       "      <td>11.93</td>\n",
       "      <td>N</td>\n",
       "      <td>0.573</td>\n",
       "      <td>6.976</td>\n",
       "      <td>91.0</td>\n",
       "      <td>2.1675</td>\n",
       "      <td>1</td>\n",
       "      <td>273</td>\n",
       "      <td>21.0</td>\n",
       "      <td>5.64</td>\n",
       "      <td>23.9</td>\n",
       "      <td>No</td>\n",
       "    </tr>\n",
       "    <tr>\n",
       "      <th>504</th>\n",
       "      <td>0.10959</td>\n",
       "      <td>0.0</td>\n",
       "      <td>11.93</td>\n",
       "      <td>N</td>\n",
       "      <td>0.573</td>\n",
       "      <td>6.794</td>\n",
       "      <td>89.3</td>\n",
       "      <td>2.3889</td>\n",
       "      <td>1</td>\n",
       "      <td>273</td>\n",
       "      <td>21.0</td>\n",
       "      <td>6.48</td>\n",
       "      <td>22.0</td>\n",
       "      <td>No</td>\n",
       "    </tr>\n",
       "    <tr>\n",
       "      <th>505</th>\n",
       "      <td>0.04741</td>\n",
       "      <td>0.0</td>\n",
       "      <td>11.93</td>\n",
       "      <td>N</td>\n",
       "      <td>0.573</td>\n",
       "      <td>6.030</td>\n",
       "      <td>80.8</td>\n",
       "      <td>2.5050</td>\n",
       "      <td>1</td>\n",
       "      <td>273</td>\n",
       "      <td>21.0</td>\n",
       "      <td>7.88</td>\n",
       "      <td>11.9</td>\n",
       "      <td>No</td>\n",
       "    </tr>\n",
       "  </tbody>\n",
       "</table>\n",
       "</div>"
      ],
      "text/plain": [
       "       CRIME  ZONE  INDUST CHAR RIV  NIT OXIDE  ROOMS   AGE  DISTANCE  RADIAL  \\\n",
       "501  0.06263   0.0   11.93        N      0.573  6.593  69.1    2.4786       1   \n",
       "502  0.04527   0.0   11.93        N      0.573  6.120  76.7    2.2875       1   \n",
       "503  0.06076   0.0   11.93        N      0.573  6.976  91.0    2.1675       1   \n",
       "504  0.10959   0.0   11.93        N      0.573  6.794  89.3    2.3889       1   \n",
       "505  0.04741   0.0   11.93        N      0.573  6.030  80.8    2.5050       1   \n",
       "\n",
       "     TAX  ST RATIO  LOW STAT  MVALUE C MVALUE  \n",
       "501  273      21.0      9.67    22.4       No  \n",
       "502  273      21.0      9.08    20.6       No  \n",
       "503  273      21.0      5.64    23.9       No  \n",
       "504  273      21.0      6.48    22.0       No  \n",
       "505  273      21.0      7.88    11.9       No  "
      ]
     },
     "execution_count": 5,
     "metadata": {},
     "output_type": "execute_result"
    }
   ],
   "source": [
    "boston_df.tail()"
   ]
  },
  {
   "cell_type": "code",
   "execution_count": 6,
   "id": "ae64781f",
   "metadata": {},
   "outputs": [
    {
     "data": {
      "text/html": [
       "<div>\n",
       "<style scoped>\n",
       "    .dataframe tbody tr th:only-of-type {\n",
       "        vertical-align: middle;\n",
       "    }\n",
       "\n",
       "    .dataframe tbody tr th {\n",
       "        vertical-align: top;\n",
       "    }\n",
       "\n",
       "    .dataframe thead th {\n",
       "        text-align: right;\n",
       "    }\n",
       "</style>\n",
       "<table border=\"1\" class=\"dataframe\">\n",
       "  <thead>\n",
       "    <tr style=\"text-align: right;\">\n",
       "      <th></th>\n",
       "      <th>CRIME</th>\n",
       "      <th>ZONE</th>\n",
       "      <th>INDUST</th>\n",
       "      <th>CHAR RIV</th>\n",
       "      <th>NIT OXIDE</th>\n",
       "      <th>ROOMS</th>\n",
       "      <th>AGE</th>\n",
       "      <th>DISTANCE</th>\n",
       "      <th>RADIAL</th>\n",
       "      <th>TAX</th>\n",
       "      <th>ST RATIO</th>\n",
       "      <th>LOW STAT</th>\n",
       "      <th>MVALUE</th>\n",
       "      <th>C MVALUE</th>\n",
       "    </tr>\n",
       "  </thead>\n",
       "  <tbody>\n",
       "    <tr>\n",
       "      <th>125</th>\n",
       "      <td>0.16902</td>\n",
       "      <td>0.0</td>\n",
       "      <td>25.65</td>\n",
       "      <td>N</td>\n",
       "      <td>0.581</td>\n",
       "      <td>5.986</td>\n",
       "      <td>88.4</td>\n",
       "      <td>1.9929</td>\n",
       "      <td>2</td>\n",
       "      <td>188</td>\n",
       "      <td>19.1</td>\n",
       "      <td>14.81</td>\n",
       "      <td>21.4</td>\n",
       "      <td>No</td>\n",
       "    </tr>\n",
       "    <tr>\n",
       "      <th>355</th>\n",
       "      <td>0.10659</td>\n",
       "      <td>80.0</td>\n",
       "      <td>1.91</td>\n",
       "      <td>N</td>\n",
       "      <td>0.413</td>\n",
       "      <td>5.936</td>\n",
       "      <td>19.5</td>\n",
       "      <td>10.5857</td>\n",
       "      <td>4</td>\n",
       "      <td>334</td>\n",
       "      <td>22.0</td>\n",
       "      <td>5.57</td>\n",
       "      <td>20.6</td>\n",
       "      <td>No</td>\n",
       "    </tr>\n",
       "    <tr>\n",
       "      <th>456</th>\n",
       "      <td>4.66883</td>\n",
       "      <td>0.0</td>\n",
       "      <td>18.10</td>\n",
       "      <td>N</td>\n",
       "      <td>0.713</td>\n",
       "      <td>5.976</td>\n",
       "      <td>87.9</td>\n",
       "      <td>2.5806</td>\n",
       "      <td>24</td>\n",
       "      <td>666</td>\n",
       "      <td>20.2</td>\n",
       "      <td>19.01</td>\n",
       "      <td>12.7</td>\n",
       "      <td>No</td>\n",
       "    </tr>\n",
       "    <tr>\n",
       "      <th>200</th>\n",
       "      <td>0.01778</td>\n",
       "      <td>95.0</td>\n",
       "      <td>1.47</td>\n",
       "      <td>N</td>\n",
       "      <td>0.403</td>\n",
       "      <td>7.135</td>\n",
       "      <td>13.9</td>\n",
       "      <td>7.6534</td>\n",
       "      <td>3</td>\n",
       "      <td>402</td>\n",
       "      <td>17.0</td>\n",
       "      <td>4.45</td>\n",
       "      <td>32.9</td>\n",
       "      <td>Yes</td>\n",
       "    </tr>\n",
       "    <tr>\n",
       "      <th>326</th>\n",
       "      <td>0.30347</td>\n",
       "      <td>0.0</td>\n",
       "      <td>7.38</td>\n",
       "      <td>N</td>\n",
       "      <td>0.493</td>\n",
       "      <td>6.312</td>\n",
       "      <td>28.9</td>\n",
       "      <td>5.4159</td>\n",
       "      <td>5</td>\n",
       "      <td>287</td>\n",
       "      <td>19.6</td>\n",
       "      <td>6.15</td>\n",
       "      <td>23.0</td>\n",
       "      <td>No</td>\n",
       "    </tr>\n",
       "  </tbody>\n",
       "</table>\n",
       "</div>"
      ],
      "text/plain": [
       "       CRIME  ZONE  INDUST CHAR RIV  NIT OXIDE  ROOMS   AGE  DISTANCE  RADIAL  \\\n",
       "125  0.16902   0.0   25.65        N      0.581  5.986  88.4    1.9929       2   \n",
       "355  0.10659  80.0    1.91        N      0.413  5.936  19.5   10.5857       4   \n",
       "456  4.66883   0.0   18.10        N      0.713  5.976  87.9    2.5806      24   \n",
       "200  0.01778  95.0    1.47        N      0.403  7.135  13.9    7.6534       3   \n",
       "326  0.30347   0.0    7.38        N      0.493  6.312  28.9    5.4159       5   \n",
       "\n",
       "     TAX  ST RATIO  LOW STAT  MVALUE C MVALUE  \n",
       "125  188      19.1     14.81    21.4       No  \n",
       "355  334      22.0      5.57    20.6       No  \n",
       "456  666      20.2     19.01    12.7       No  \n",
       "200  402      17.0      4.45    32.9      Yes  \n",
       "326  287      19.6      6.15    23.0       No  "
      ]
     },
     "execution_count": 6,
     "metadata": {},
     "output_type": "execute_result"
    }
   ],
   "source": [
    "# Use the sample() function to retrieve a random sample of observations. \n",
    "# Here we sample 5 observations without replacement.\n",
    "boston_df.sample(5)"
   ]
  },
  {
   "cell_type": "code",
   "execution_count": 7,
   "id": "e76c2b37",
   "metadata": {},
   "outputs": [
    {
     "name": "stdout",
     "output_type": "stream",
     "text": [
      "Original column titles:\n"
     ]
    },
    {
     "data": {
      "text/plain": [
       "Index(['CRIME', 'ZONE', 'INDUST', 'CHAR RIV', 'NIT OXIDE', 'ROOMS', 'AGE',\n",
       "       'DISTANCE', 'RADIAL', 'TAX', 'ST RATIO', 'LOW STAT', 'MVALUE',\n",
       "       'C MVALUE'],\n",
       "      dtype='object')"
      ]
     },
     "execution_count": 7,
     "metadata": {},
     "output_type": "execute_result"
    }
   ],
   "source": [
    "print('Original column titles:')\n",
    "boston_df.columns"
   ]
  },
  {
   "cell_type": "code",
   "execution_count": 8,
   "id": "9c422bf7",
   "metadata": {},
   "outputs": [
    {
     "name": "stdout",
     "output_type": "stream",
     "text": [
      "Modified column titles with no space and one word for titles:\n"
     ]
    },
    {
     "data": {
      "text/plain": [
       "Index(['CRIME', 'ZONE', 'INDUST', 'CHAR_RIV', 'NIT_OXIDE', 'ROOMS', 'AGE',\n",
       "       'DISTANCE', 'RADIAL', 'TAX', 'ST_RATIO', 'LOW_STAT', 'MVALUE',\n",
       "       'C_MVALUE'],\n",
       "      dtype='object')"
      ]
     },
     "execution_count": 8,
     "metadata": {},
     "output_type": "execute_result"
    }
   ],
   "source": [
    "print('Modified column titles with no space and one word for titles:')\n",
    "boston_df.columns = [s.strip().replace(\" \", \"_\") for s in boston_df.columns]\n",
    "boston_df.columns"
   ]
  },
  {
   "cell_type": "code",
   "execution_count": 9,
   "id": "8722429e",
   "metadata": {},
   "outputs": [
    {
     "data": {
      "text/plain": [
       "CRIME        float64\n",
       "ZONE         float64\n",
       "INDUST       float64\n",
       "CHAR_RIV      object\n",
       "NIT_OXIDE    float64\n",
       "ROOMS        float64\n",
       "AGE          float64\n",
       "DISTANCE     float64\n",
       "RADIAL         int64\n",
       "TAX            int64\n",
       "ST_RATIO     float64\n",
       "LOW_STAT     float64\n",
       "MVALUE       float64\n",
       "C_MVALUE      object\n",
       "dtype: object"
      ]
     },
     "execution_count": 9,
     "metadata": {},
     "output_type": "execute_result"
    }
   ],
   "source": [
    "boston_df.dtypes"
   ]
  },
  {
   "cell_type": "code",
   "execution_count": 10,
   "id": "3e9bc673",
   "metadata": {},
   "outputs": [
    {
     "name": "stdout",
     "output_type": "stream",
     "text": [
      "Original CHAR_RIV and C_MVALUE variables:\n",
      "object object\n",
      " \n",
      "Category levels and changed variable type of CHAR_RIV column:\n",
      "Index(['N', 'Y'], dtype='object')\n",
      "category\n",
      " \n",
      "Category levels and changed variable type of C_MVALUE column:\n",
      "Index(['No', 'Yes'], dtype='object')\n",
      "category\n"
     ]
    }
   ],
   "source": [
    "# The CHAR_RIV and C_MVALUE column are 'object's; does not have \n",
    "# the 'category' definition.\n",
    "print('Original CHAR_RIV and C_MVALUE variables:')\n",
    "print(boston_df.CHAR_RIV.dtype, boston_df.C_MVALUE.dtype )\n",
    "\n",
    "# Need to change variable types to 'category'. \n",
    "boston_df.CHAR_RIV = boston_df.CHAR_RIV.astype('category')\n",
    "boston_df.C_MVALUE = boston_df.C_MVALUE.astype(\"category\")\n",
    "\n",
    "# Display category levels (attributes) and category type.\n",
    "print(' ')\n",
    "print('Category levels and changed variable type of CHAR_RIV column:')\n",
    "print(boston_df.CHAR_RIV.cat.categories)  # It can take one of two levels.\n",
    "print(boston_df.CHAR_RIV.dtype)  # Type is now 'category'.\n",
    "print(' ')\n",
    "print('Category levels and changed variable type of C_MVALUE column:')\n",
    "print(boston_df.C_MVALUE.cat.categories)  # It can take one of two levels.\n",
    "print(boston_df.C_MVALUE.dtype) "
   ]
  },
  {
   "cell_type": "code",
   "execution_count": 11,
   "id": "3cdd215e",
   "metadata": {},
   "outputs": [
    {
     "name": "stdout",
     "output_type": "stream",
     "text": [
      "Modified list of column variables:\n"
     ]
    },
    {
     "data": {
      "text/plain": [
       "Index(['CRIME', 'ZONE', 'INDUST', 'NIT_OXIDE', 'ROOMS', 'AGE', 'DISTANCE',\n",
       "       'RADIAL', 'TAX', 'ST_RATIO', 'LOW_STAT', 'MVALUE', 'CHAR_RIV_Y',\n",
       "       'C_MVALUE_Yes'],\n",
       "      dtype='object')"
      ]
     },
     "execution_count": 11,
     "metadata": {},
     "output_type": "execute_result"
    }
   ],
   "source": [
    "boston_df = pd.get_dummies(boston_df, prefix_sep='_', drop_first = True)\n",
    "print(\"Modified list of column variables:\")\n",
    "boston_df.columns"
   ]
  },
  {
   "cell_type": "code",
   "execution_count": 12,
   "id": "2b95a1cc",
   "metadata": {},
   "outputs": [
    {
     "name": "stdout",
     "output_type": "stream",
     "text": [
      "   CHAR_RIV_Y  C_MVALUE_Yes\n",
      "0           0             0\n",
      "1           0             0\n",
      "2           0             1\n",
      "3           0             1\n",
      "4           0             1\n"
     ]
    }
   ],
   "source": [
    "# Display values of the new dummy variables, \n",
    "# CHAR_RIV_Y and C_MVALUE_Yes.\n",
    "#if the dummy variale CHAR_RIV_Y is 0 then it is N. Similarly, if the dummy variale C_MVALUE_Yes is 0 then it is No.\n",
    "print(boston_df.loc[:, 'CHAR_RIV_Y':'C_MVALUE_Yes'].head(5))"
   ]
  },
  {
   "cell_type": "code",
   "execution_count": 13,
   "id": "8c696711",
   "metadata": {},
   "outputs": [
    {
     "name": "stdout",
     "output_type": "stream",
     "text": [
      "Descriptive statistics for all the columns in the modified data frame:\n",
      " \n",
      "        CRIME    ZONE  INDUST  NIT_OXIDE   ROOMS     AGE  DISTANCE  RADIAL  \\\n",
      "count  506.00  506.00  506.00     506.00  506.00  506.00    506.00  506.00   \n",
      "mean     3.61   11.36   11.14       0.55    6.28   68.57      3.80    9.55   \n",
      "std      8.60   23.32    6.86       0.12    0.70   28.15      2.11    8.71   \n",
      "min      0.01    0.00    0.46       0.38    3.56    2.90      1.13    1.00   \n",
      "25%      0.08    0.00    5.19       0.45    5.89   45.02      2.10    4.00   \n",
      "\n",
      "          TAX  ST_RATIO  LOW_STAT  MVALUE  CHAR_RIV_Y  C_MVALUE_Yes  \n",
      "count  506.00    506.00    506.00  506.00      506.00        506.00  \n",
      "mean   408.24     18.46     12.65   22.53        0.07          0.17  \n",
      "std    168.54      2.16      7.14    9.20        0.25          0.37  \n",
      "min    187.00     12.60      1.73    5.00        0.00          0.00  \n",
      "25%    279.00     17.40      6.95   17.02        0.00          0.00  \n"
     ]
    }
   ],
   "source": [
    "des_df = pd.DataFrame(np.round(boston_df.describe(), decimals=2))\n",
    "print(\"Descriptive statistics for all the columns in the modified data frame:\")\n",
    "print(\" \")\n",
    "print(des_df.head(5))\n"
   ]
  },
  {
   "cell_type": "code",
   "execution_count": 14,
   "id": "31425ed8",
   "metadata": {
    "scrolled": false
   },
   "outputs": [
    {
     "name": "stdout",
     "output_type": "stream",
     "text": [
      "               Count\n",
      "CRIME           506\n",
      "ZONE            506\n",
      "INDUST          506\n",
      "NIT_OXIDE       506\n",
      "ROOMS           506\n",
      "AGE             506\n",
      "DISTANCE        506\n",
      "RADIAL          506\n",
      "TAX             506\n",
      "ST_RATIO        506\n",
      "LOW_STAT        506\n",
      "MVALUE          506\n",
      "CHAR_RIV_Y      506\n",
      "C_MVALUE_Yes    506\n",
      "dtype: int64\n"
     ]
    }
   ],
   "source": [
    "print(\"               Count\")\n",
    "print(boston_df[:].count()) #find out missing values #result shows no missing values"
   ]
  },
  {
   "cell_type": "code",
   "execution_count": 15,
   "id": "c3d34814",
   "metadata": {},
   "outputs": [
    {
     "name": "stdout",
     "output_type": "stream",
     "text": [
      "The outcome variable is \"MVALUE\"\n",
      "\n",
      "The predictor variables are ['CRIME', 'ZONE', 'INDUST', 'NIT_OXIDE', 'ROOMS', 'AGE', 'DISTANCE', 'RADIAL', 'TAX', 'ST_RATIO', 'LOW_STAT', 'CHAR_RIV_Y', 'C_MVALUE_Yes'] \n",
      "\n",
      "First 10 Records of Boston Data Set\n",
      "   MVALUE    CRIME  ZONE  INDUST  NIT_OXIDE  ROOMS   AGE  DISTANCE  RADIAL  \\\n",
      "0    24.0  0.00632  18.0    2.31      0.538  6.575  65.2    4.0900       1   \n",
      "1    21.6  0.02731   0.0    7.07      0.469  6.421  78.9    4.9671       2   \n",
      "2    34.7  0.02729   0.0    7.07      0.469  7.185  61.1    4.9671       2   \n",
      "3    33.4  0.03237   0.0    2.18      0.458  6.998  45.8    6.0622       3   \n",
      "4    36.2  0.06905   0.0    2.18      0.458  7.147  54.2    6.0622       3   \n",
      "\n",
      "   TAX  ST_RATIO  LOW_STAT  CHAR_RIV_Y  C_MVALUE_Yes  \n",
      "0  296      15.3      4.98           0             0  \n",
      "1  242      17.8      9.14           0             0  \n",
      "2  242      17.8      4.03           0             1  \n",
      "3  222      18.7      2.94           0             1  \n",
      "4  222      18.7      5.33           0             1  \n"
     ]
    }
   ],
   "source": [
    "# Identify predictors and outcome, \n",
    "# and data preprocessing.\n",
    "\n",
    "\n",
    "# Identify predictors (same as those in linear regression and \n",
    "# regression tree) and outcome for neural network model. \n",
    "predictors = ['CRIME', 'ZONE', 'INDUST', 'NIT_OXIDE', 'ROOMS', 'AGE', 'DISTANCE',\n",
    "              'RADIAL', 'TAX', 'ST_RATIO', 'LOW_STAT', 'CHAR_RIV_Y', 'C_MVALUE_Yes']\n",
    "outcome = 'MVALUE'\n",
    "\n",
    "print(f'The outcome variable is \"{outcome}\"\\n\\nThe predictor variables are {predictors} \\n')\n",
    "# Name predictors and outcome data frames as X and y, respectively. \n",
    "# Convert, if necessary, categorical variables to dummy variables. \n",
    "X = pd.get_dummies(boston_df[predictors], drop_first=True)\n",
    "y = boston_df[outcome]\n",
    "\n",
    "# Display the first 10 records of Boston data set. \n",
    "boston_df_reg = pd.concat([y, X], axis=1)\n",
    "print('First 10 Records of Boston Data Set')\n",
    "print(boston_df_reg.head(5))"
   ]
  },
  {
   "cell_type": "code",
   "execution_count": 16,
   "id": "2bcdd480",
   "metadata": {},
   "outputs": [
    {
     "name": "stdout",
     "output_type": "stream",
     "text": [
      "Predictors for Training Partition\n",
      "       CRIME  ZONE  INDUST  NIT_OXIDE  ROOMS   AGE  DISTANCE  RADIAL  TAX  \\\n",
      "452  5.09017   0.0   18.10      0.713  6.297  91.8    2.3682      24  666   \n",
      "346  0.06162   0.0    4.39      0.442  5.898  52.3    8.0136       3  352   \n",
      "295  0.12932   0.0   13.92      0.437  6.678  31.1    5.9604       4  289   \n",
      "88   0.05660   0.0    3.41      0.489  7.007  86.3    3.4217       2  270   \n",
      "322  0.35114   0.0    7.38      0.493  6.041  49.9    4.7211       5  287   \n",
      "\n",
      "     ST_RATIO  LOW_STAT  CHAR_RIV_Y  C_MVALUE_Yes  \n",
      "452      20.2     17.27           0             0  \n",
      "346      18.8     12.67           0             0  \n",
      "295      16.0      6.27           0             0  \n",
      "88       17.8      5.50           0             0  \n",
      "322      19.6      7.70           0             0  \n",
      "\n",
      "Scaled Predictors for Training Partition\n",
      "   CRIME   ZONE  INDUST  NIT_OXIDE  ROOMS    AGE  DISTANCE  RADIAL    TAX  \\\n",
      "0  0.146 -0.482   1.006      1.306  0.083  0.803    -0.688   1.662  1.530   \n",
      "1 -0.419 -0.482  -1.003     -0.955 -0.511 -0.584     1.948  -0.755 -0.337   \n",
      "2 -0.412 -0.482   0.393     -0.996  0.651 -1.328     0.989  -0.640 -0.712   \n",
      "3 -0.420 -0.482  -1.147     -0.563  1.140  0.610    -0.196  -0.871 -0.825   \n",
      "4 -0.387 -0.482  -0.565     -0.529 -0.298 -0.668     0.410  -0.525 -0.724   \n",
      "\n",
      "   ST_RATIO  LOW_STAT  CHAR_RIV_Y  C_MVALUE_Yes  \n",
      "0     0.831     0.560      -0.293         -0.45  \n",
      "1     0.189    -0.061      -0.293         -0.45  \n",
      "2    -1.096    -0.926      -0.293         -0.45  \n",
      "3    -0.270    -1.030      -0.293         -0.45  \n",
      "4     0.556    -0.733      -0.293         -0.45  \n"
     ]
    }
   ],
   "source": [
    "# Create data partitioning and scale the data using \n",
    "# StandardScaler()from scikit-learn libray. Display \n",
    "# original and scaled predictors for training partition. \n",
    "\n",
    "# Create data partition with training set, 60%(0.6), and \n",
    "# validation set 40%(0.4) of the Toyota Corolla data set.\n",
    "train_X, valid_X, train_y, valid_y = train_test_split(X, y, \n",
    "                            test_size=0.4, random_state=1)\n",
    "\n",
    "# Display the first 10 records of training \n",
    "# partition's predictors. \n",
    "print('Predictors for Training Partition')\n",
    "print(train_X.head(5))\n",
    "\n",
    "# Scale input data (predictors) for training  and validation \n",
    "# partitions using StandardScaler().\n",
    "sc_X = StandardScaler()\n",
    "train_X_sc = sc_X.fit_transform(train_X)\n",
    "valid_X_sc = sc_X.transform(valid_X)\n",
    "\n",
    "# Develop a data frame to display scaled predictors for \n",
    "# training partition. Round scaled values to 3 decimals.\n",
    "# Add coloumn titles to data frame.\n",
    "train_X_sc_df = np.round(pd.DataFrame(train_X_sc), decimals=3)                            \n",
    "train_X_sc_df.columns=['CRIME', 'ZONE', 'INDUST', 'NIT_OXIDE', 'ROOMS', 'AGE', 'DISTANCE',\n",
    "                       'RADIAL', 'TAX', 'ST_RATIO', 'LOW_STAT', 'CHAR_RIV_Y', 'C_MVALUE_Yes']\n",
    "\n",
    "# Display scaled predictors for training partition.\n",
    "print()\n",
    "print('Scaled Predictors for Training Partition')\n",
    "print(train_X_sc_df.head(5))"
   ]
  },
  {
   "cell_type": "code",
   "execution_count": 17,
   "id": "4c8f7846",
   "metadata": {},
   "outputs": [
    {
     "name": "stdout",
     "output_type": "stream",
     "text": [
      "Final Intercepts for Neural Network Model\n",
      "[array([ 2.26914474,  4.18675342, -1.50466092, -0.95080817,  0.32205673,\n",
      "        0.49141424, -0.81237211,  0.89649621,  2.52709405]), array([-11.97658924])]\n",
      "\n",
      "Network Weights for Neural Network Model\n",
      "[array([[-0.36367279,  0.52687745, -0.00964011, -1.5129948 ,  1.31769872,\n",
      "        -0.41850542, -1.53776369, -0.62480937, -1.90841567],\n",
      "       [ 0.66134206, -1.23924591,  0.28794966,  2.11953871,  1.07434276,\n",
      "         0.43220725, -4.11086338,  0.40334917, -0.08228966],\n",
      "       [ 0.59676784,  0.58331396,  2.48943055,  0.90207757, -1.28237762,\n",
      "         0.42433014, -1.95774694,  0.95234875,  1.23319412],\n",
      "       [-2.20869382, -1.37160062, -0.98568213,  0.36329227, -0.6196563 ,\n",
      "        -0.30782417,  1.05946611,  0.83457418,  2.71468783],\n",
      "       [ 0.16998566, -0.09067205, -1.7444194 ,  0.11677319,  1.80120993,\n",
      "         0.81352311, -0.01783085, -2.03768459,  0.23723986],\n",
      "       [-0.27165058, -2.52251129, -1.29506367,  0.3880619 ,  0.44373225,\n",
      "         0.51115637,  0.8306126 ,  2.20731332,  0.09551513],\n",
      "       [-1.74438324, -1.35593869,  0.74218103, -1.21093971, -0.69583533,\n",
      "        -1.5105213 , -2.02212252,  3.26384001,  2.69895918],\n",
      "       [ 1.78857118,  0.22470477,  0.04506329,  2.44667139, -2.59695682,\n",
      "         3.58357297,  2.76451342,  2.06536825, -2.18559373],\n",
      "       [-2.74560654, -0.75960224, -1.80703499, -0.49290849,  2.18655319,\n",
      "        -1.41363973,  0.08668975, -0.95125975,  1.66200652],\n",
      "       [-0.51989512, -1.10225497, -1.92888649, -0.44066122,  2.16479034,\n",
      "        -1.2403606 ,  1.59544772,  0.83730668, -1.14664323],\n",
      "       [ 0.18569259, -1.05978838, -1.49423995,  0.57938554, -0.87388064,\n",
      "        -0.65901279,  1.50251509, -1.80353844, -0.48843375],\n",
      "       [-0.05494451, -0.8172153 , -0.42448891,  0.43840623,  0.79331301,\n",
      "        -1.1406599 ,  0.14764358,  0.05219393,  0.55909692],\n",
      "       [-1.91183736,  1.16460099, -0.03811763, -2.00838446,  1.32188124,\n",
      "         2.55833196, -0.02954175,  0.43669783, -0.57348116]]), array([[ 3.39687967],\n",
      "       [ 2.13203837],\n",
      "       [-2.33602904],\n",
      "       [-2.86800963],\n",
      "       [ 1.64344769],\n",
      "       [ 1.53156148],\n",
      "       [ 2.48111618],\n",
      "       [ 1.27104678],\n",
      "       [ 2.56836215]])]\n"
     ]
    }
   ],
   "source": [
    "# Use MLPRegressor() function to train neural network model.\n",
    "# Apply: \n",
    "# (a) default input layer with the number of nodes equal \n",
    "#     to number of predictor variables (13); \n",
    "# (b) default single hidden layer with 9 nodes; \n",
    "# (c) default output layer with one outcome variable (Price);\n",
    "# (d) optimization function solver = 'lbfgs', \n",
    "#     which is applied for small data sets for better \n",
    "#     performance and fast convergence. For large data sets, \n",
    "#     apply default solver = 'adam' optimization function;\n",
    "# (e) model is fit with scaled predictors and regular outcome\n",
    "#     in training partition.\n",
    "boston_reg = MLPRegressor(hidden_layer_sizes=(9), \n",
    "                solver='lbfgs', max_iter=10000, random_state=1)\n",
    "boston_reg.fit(train_X_sc, train_y)\n",
    "\n",
    "# Display network structure with the final values of \n",
    "# intercepts (Theta) and weights (W).\n",
    "print('Final Intercepts for Neural Network Model')\n",
    "print(boston_reg.intercepts_)\n",
    "\n",
    "print()\n",
    "print('Network Weights for Neural Network Model')\n",
    "print(boston_reg.coefs_)"
   ]
  },
  {
   "cell_type": "code",
   "execution_count": 18,
   "id": "104b0de0",
   "metadata": {},
   "outputs": [
    {
     "name": "stdout",
     "output_type": "stream",
     "text": [
      "Predictions for Validation Partition\n",
      "     Actual  Prediction  Residual\n",
      "307    28.2       29.63     -1.43\n",
      "343    23.9       23.49      0.41\n",
      "47     16.6       17.80     -1.20\n",
      "67     22.0       18.73      3.27\n",
      "362    20.8       25.30     -4.50\n"
     ]
    }
   ],
   "source": [
    "# Make 'Mvalue' predictions for validation set using  \n",
    "# neural network model. \n",
    "\n",
    "# Use boston_reg model to predict 'Mvalue' outcome\n",
    "# for validation set.\n",
    "Mvalue_pred = np.round(boston_reg.predict(valid_X_sc), decimals=2)\n",
    "\n",
    "# Create data frame to display prediction results for\n",
    "# validation set. \n",
    "Mvalue_pred_result = pd.DataFrame({'Actual': valid_y, \n",
    "                'Prediction': Mvalue_pred, 'Residual': valid_y-Mvalue_pred})\n",
    "\n",
    "print('Predictions for Validation Partition')\n",
    "print(Mvalue_pred_result.head(5))"
   ]
  },
  {
   "cell_type": "code",
   "execution_count": 20,
   "id": "77a1d3ef",
   "metadata": {},
   "outputs": [
    {
     "name": "stdout",
     "output_type": "stream",
     "text": [
      "Accuracy Measures for Training Partition for Neural Network\n",
      "\n",
      "Regression statistics\n",
      "\n",
      "                      Mean Error (ME) : -0.0034\n",
      "       Root Mean Squared Error (RMSE) : 1.5617\n",
      "            Mean Absolute Error (MAE) : 1.1368\n",
      "          Mean Percentage Error (MPE) : -0.8274\n",
      "Mean Absolute Percentage Error (MAPE) : 6.0681\n",
      "\n",
      "Accuracy Measures for Validation Partition for Neural Network\n",
      "\n",
      "Regression statistics\n",
      "\n",
      "                      Mean Error (ME) : -0.0912\n",
      "       Root Mean Squared Error (RMSE) : 3.1675\n",
      "            Mean Absolute Error (MAE) : 2.2668\n",
      "          Mean Percentage Error (MPE) : -3.0502\n",
      "Mean Absolute Percentage Error (MAPE) : 11.6748\n"
     ]
    }
   ],
   "source": [
    "# Neural network model accuracy measures for training and\n",
    "# validation partitions. \n",
    "\n",
    "# Identify and display neural network model accuracy measures \n",
    "# for training partition.\n",
    "print('Accuracy Measures for Training Partition for Neural Network')\n",
    "regressionSummary(train_y, boston_reg.predict(train_X_sc))\n",
    "\n",
    "# Identify and display neural network accuracy measures \n",
    "# for validation partition.\n",
    "print()\n",
    "print('Accuracy Measures for Validation Partition for Neural Network')\n",
    "regressionSummary(valid_y, boston_reg.predict(valid_X_sc))"
   ]
  },
  {
   "cell_type": "markdown",
   "id": "adab3efc",
   "metadata": {},
   "source": [
    "## Grid Search CV"
   ]
  },
  {
   "cell_type": "code",
   "execution_count": 21,
   "id": "0fbe8613",
   "metadata": {},
   "outputs": [
    {
     "name": "stdout",
     "output_type": "stream",
     "text": [
      "Best score:0.8759\n",
      "Best parameter:  {'hidden_layer_sizes': 2}\n"
     ]
    }
   ],
   "source": [
    "# Identify grid search parameters. \n",
    "param_grid = {\n",
    "    'hidden_layer_sizes': list(range(2, 20)), \n",
    "}\n",
    "\n",
    "# Utilize GridSearchCV() to identify the best number \n",
    "# of nodes in the hidden layer. \n",
    "gridSearch = GridSearchCV(MLPRegressor(solver='lbfgs', max_iter=10000, random_state=1), \n",
    "                          param_grid, cv=5, n_jobs=-1, return_train_score=True)\n",
    "gridSearch.fit(train_X_sc, train_y)\n",
    "\n",
    "# Display the best score and best parament value.\n",
    "print(f'Best score:{gridSearch.best_score_:.4f}')\n",
    "print('Best parameter: ', gridSearch.best_params_)"
   ]
  },
  {
   "cell_type": "code",
   "execution_count": 22,
   "id": "c468fabf",
   "metadata": {},
   "outputs": [
    {
     "name": "stdout",
     "output_type": "stream",
     "text": [
      "Final Intercepts for Neural Network Model\n",
      "[array([-5.59839276,  8.69124415]), array([6.60346469])]\n",
      "\n",
      "Network Weights for Neural Network Model\n",
      "[array([[-0.20769012, -1.78999663],\n",
      "       [-0.31789029,  0.2530354 ],\n",
      "       [ 3.68804841, -0.23745973],\n",
      "       [-0.39979107, -0.36498108],\n",
      "       [-1.54682674,  2.3322485 ],\n",
      "       [ 0.12819544, -0.90563125],\n",
      "       [ 0.31696069, -1.11355164],\n",
      "       [ 3.16426975,  0.13759987],\n",
      "       [ 1.58396291, -1.3793737 ],\n",
      "       [-2.27344137, -0.55228335],\n",
      "       [-1.32734466, -0.43485492],\n",
      "       [-0.01351816,  0.17987294],\n",
      "       [ 3.13443234,  1.31033442]]), array([[2.40608879],\n",
      "       [1.58695947]])]\n"
     ]
    }
   ],
   "source": [
    "# Use MLPRegressor() function to train the improved neural network model\n",
    "# based on grid search results. \n",
    "\n",
    "# Apply: \n",
    "# (a) default input layer with the number of nodes equal \n",
    "#     to number of predictor variaSbles (13); \n",
    "# (b) single hidden layer with 2 nodes based on grid search; \n",
    "# (c) default output layer with the number nodes equal\n",
    "#     to one outcome variable \"MVALUE\";\n",
    "# (d) solver = 'lbfgs', which is applied for small data \n",
    "#     sets for better performance and fast convergence. \n",
    "#     For large data sets, apply default solver = 'adam'. \n",
    "boston_imp = MLPRegressor(hidden_layer_sizes=(2), max_iter=10000,\n",
    "                                 solver='lbfgs', random_state=1)\n",
    "boston_imp.fit(train_X_sc, train_y)\n",
    "\n",
    "# Display network structure with the final values of \n",
    "# intercepts (Theta) and weights (W).\n",
    "print('Final Intercepts for Neural Network Model')\n",
    "print(boston_imp.intercepts_)\n",
    "\n",
    "print()\n",
    "print('Network Weights for Neural Network Model')\n",
    "print(boston_imp.coefs_)"
   ]
  },
  {
   "cell_type": "code",
   "execution_count": 23,
   "id": "bf332e62",
   "metadata": {},
   "outputs": [
    {
     "name": "stdout",
     "output_type": "stream",
     "text": [
      "Accuracy Measures for Training Partition for Neural Network\n",
      "\n",
      "Regression statistics\n",
      "\n",
      "                      Mean Error (ME) : 0.0013\n",
      "       Root Mean Squared Error (RMSE) : 2.6108\n",
      "            Mean Absolute Error (MAE) : 2.0053\n",
      "          Mean Percentage Error (MPE) : -1.8353\n",
      "Mean Absolute Percentage Error (MAPE) : 10.4838\n",
      "\n",
      "Accuracy Measures for Validation Partition for Neural Network\n",
      "\n",
      "Regression statistics\n",
      "\n",
      "                      Mean Error (ME) : 0.0295\n",
      "       Root Mean Squared Error (RMSE) : 3.0570\n",
      "            Mean Absolute Error (MAE) : 2.2651\n",
      "          Mean Percentage Error (MPE) : -2.3393\n",
      "Mean Absolute Percentage Error (MAPE) : 11.4870\n"
     ]
    }
   ],
   "source": [
    "# Neural network model based on Grid Search results and its accuracy measures for training and\n",
    "# validation partitions. \n",
    "\n",
    "# Identify and display neural network model accuracy measures \n",
    "# for training partition.\n",
    "print('Accuracy Measures for Training Partition for Neural Network')\n",
    "regressionSummary(train_y, boston_imp.predict(train_X_sc))\n",
    "\n",
    "# Identify and display neural network accuracy measures \n",
    "# for validation partition.\n",
    "print()\n",
    "print('Accuracy Measures for Validation Partition for Neural Network')\n",
    "regressionSummary(valid_y, boston_imp.predict(valid_X_sc))"
   ]
  },
  {
   "cell_type": "code",
   "execution_count": null,
   "id": "2b27bbe8",
   "metadata": {},
   "outputs": [],
   "source": []
  },
  {
   "cell_type": "code",
   "execution_count": null,
   "id": "f4982dfd",
   "metadata": {},
   "outputs": [],
   "source": []
  }
 ],
 "metadata": {
  "kernelspec": {
   "display_name": "Python 3",
   "language": "python",
   "name": "python3"
  },
  "language_info": {
   "codemirror_mode": {
    "name": "ipython",
    "version": 3
   },
   "file_extension": ".py",
   "mimetype": "text/x-python",
   "name": "python",
   "nbconvert_exporter": "python",
   "pygments_lexer": "ipython3",
   "version": "3.8.8"
  }
 },
 "nbformat": 4,
 "nbformat_minor": 5
}
