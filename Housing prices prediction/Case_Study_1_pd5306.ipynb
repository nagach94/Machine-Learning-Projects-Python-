{
 "cells": [
  {
   "cell_type": "code",
   "execution_count": 16,
   "id": "0f4abc51",
   "metadata": {},
   "outputs": [],
   "source": [
    "from pathlib import Path # to interact with file system.\n",
    "\n",
    "import numpy as np # for working with arrays.\n",
    "import pandas as pd # for working with data frames (tables).\n",
    "import seaborn as sns # for plotting box plots to detect outliers\n",
    "\n",
    "from sklearn.model_selection import train_test_split # for data partition.\n",
    "from sklearn.metrics import r2_score # to identify r_square for regression model.\n",
    "from sklearn.linear_model import LinearRegression # for linear regression model. \n",
    "\n",
    "%matplotlib inline \n",
    "import matplotlib.pylab as plt # for building and showing graphs.\n",
    "\n",
    "import statsmodels.formula.api as sm\n",
    "\n",
    "import dmba\n",
    "\n",
    "from dmba import regressionSummary, exhaustive_search\n",
    "from dmba import backward_elimination, forward_selection, stepwise_selection\n",
    "from dmba import adjusted_r2_score, AIC_score, BIC_score"
   ]
  },
  {
   "cell_type": "code",
   "execution_count": 17,
   "id": "67fa3495",
   "metadata": {},
   "outputs": [],
   "source": [
    "!pip install dmba --quiet"
   ]
  },
  {
   "cell_type": "code",
   "execution_count": 18,
   "id": "fe50fb5c",
   "metadata": {},
   "outputs": [],
   "source": [
    "boston_df = pd.read_csv(\"BostonHousing.csv\")"
   ]
  },
  {
   "cell_type": "code",
   "execution_count": 19,
   "id": "333ef79d",
   "metadata": {},
   "outputs": [
    {
     "name": "stdout",
     "output_type": "stream",
     "text": [
      "Dataframe dimensions, i.e. Number of rows and columns in data set: (506, 14)\n"
     ]
    }
   ],
   "source": [
    "print('Dataframe dimensions, i.e. Number of rows and columns in data set:', \n",
    "      boston_df.shape)"
   ]
  },
  {
   "cell_type": "code",
   "execution_count": 20,
   "id": "8a86e357",
   "metadata": {},
   "outputs": [
    {
     "data": {
      "text/html": [
       "<div>\n",
       "<style scoped>\n",
       "    .dataframe tbody tr th:only-of-type {\n",
       "        vertical-align: middle;\n",
       "    }\n",
       "\n",
       "    .dataframe tbody tr th {\n",
       "        vertical-align: top;\n",
       "    }\n",
       "\n",
       "    .dataframe thead th {\n",
       "        text-align: right;\n",
       "    }\n",
       "</style>\n",
       "<table border=\"1\" class=\"dataframe\">\n",
       "  <thead>\n",
       "    <tr style=\"text-align: right;\">\n",
       "      <th></th>\n",
       "      <th>CRIME</th>\n",
       "      <th>ZONE</th>\n",
       "      <th>INDUST</th>\n",
       "      <th>CHAR RIV</th>\n",
       "      <th>NIT OXIDE</th>\n",
       "      <th>ROOMS</th>\n",
       "      <th>AGE</th>\n",
       "      <th>DISTANCE</th>\n",
       "      <th>RADIAL</th>\n",
       "      <th>TAX</th>\n",
       "      <th>ST RATIO</th>\n",
       "      <th>LOW STAT</th>\n",
       "      <th>MVALUE</th>\n",
       "      <th>C MVALUE</th>\n",
       "    </tr>\n",
       "  </thead>\n",
       "  <tbody>\n",
       "    <tr>\n",
       "      <th>0</th>\n",
       "      <td>0.00632</td>\n",
       "      <td>18.0</td>\n",
       "      <td>2.31</td>\n",
       "      <td>N</td>\n",
       "      <td>0.538</td>\n",
       "      <td>6.575</td>\n",
       "      <td>65.2</td>\n",
       "      <td>4.0900</td>\n",
       "      <td>1</td>\n",
       "      <td>296</td>\n",
       "      <td>15.3</td>\n",
       "      <td>4.98</td>\n",
       "      <td>24.0</td>\n",
       "      <td>No</td>\n",
       "    </tr>\n",
       "    <tr>\n",
       "      <th>1</th>\n",
       "      <td>0.02731</td>\n",
       "      <td>0.0</td>\n",
       "      <td>7.07</td>\n",
       "      <td>N</td>\n",
       "      <td>0.469</td>\n",
       "      <td>6.421</td>\n",
       "      <td>78.9</td>\n",
       "      <td>4.9671</td>\n",
       "      <td>2</td>\n",
       "      <td>242</td>\n",
       "      <td>17.8</td>\n",
       "      <td>9.14</td>\n",
       "      <td>21.6</td>\n",
       "      <td>No</td>\n",
       "    </tr>\n",
       "    <tr>\n",
       "      <th>2</th>\n",
       "      <td>0.02729</td>\n",
       "      <td>0.0</td>\n",
       "      <td>7.07</td>\n",
       "      <td>N</td>\n",
       "      <td>0.469</td>\n",
       "      <td>7.185</td>\n",
       "      <td>61.1</td>\n",
       "      <td>4.9671</td>\n",
       "      <td>2</td>\n",
       "      <td>242</td>\n",
       "      <td>17.8</td>\n",
       "      <td>4.03</td>\n",
       "      <td>34.7</td>\n",
       "      <td>Yes</td>\n",
       "    </tr>\n",
       "    <tr>\n",
       "      <th>3</th>\n",
       "      <td>0.03237</td>\n",
       "      <td>0.0</td>\n",
       "      <td>2.18</td>\n",
       "      <td>N</td>\n",
       "      <td>0.458</td>\n",
       "      <td>6.998</td>\n",
       "      <td>45.8</td>\n",
       "      <td>6.0622</td>\n",
       "      <td>3</td>\n",
       "      <td>222</td>\n",
       "      <td>18.7</td>\n",
       "      <td>2.94</td>\n",
       "      <td>33.4</td>\n",
       "      <td>Yes</td>\n",
       "    </tr>\n",
       "    <tr>\n",
       "      <th>4</th>\n",
       "      <td>0.06905</td>\n",
       "      <td>0.0</td>\n",
       "      <td>2.18</td>\n",
       "      <td>N</td>\n",
       "      <td>0.458</td>\n",
       "      <td>7.147</td>\n",
       "      <td>54.2</td>\n",
       "      <td>6.0622</td>\n",
       "      <td>3</td>\n",
       "      <td>222</td>\n",
       "      <td>18.7</td>\n",
       "      <td>5.33</td>\n",
       "      <td>36.2</td>\n",
       "      <td>Yes</td>\n",
       "    </tr>\n",
       "  </tbody>\n",
       "</table>\n",
       "</div>"
      ],
      "text/plain": [
       "     CRIME  ZONE  INDUST CHAR RIV  NIT OXIDE  ROOMS   AGE  DISTANCE  RADIAL  \\\n",
       "0  0.00632  18.0    2.31        N      0.538  6.575  65.2    4.0900       1   \n",
       "1  0.02731   0.0    7.07        N      0.469  6.421  78.9    4.9671       2   \n",
       "2  0.02729   0.0    7.07        N      0.469  7.185  61.1    4.9671       2   \n",
       "3  0.03237   0.0    2.18        N      0.458  6.998  45.8    6.0622       3   \n",
       "4  0.06905   0.0    2.18        N      0.458  7.147  54.2    6.0622       3   \n",
       "\n",
       "   TAX  ST RATIO  LOW STAT  MVALUE C MVALUE  \n",
       "0  296      15.3      4.98    24.0       No  \n",
       "1  242      17.8      9.14    21.6       No  \n",
       "2  242      17.8      4.03    34.7      Yes  \n",
       "3  222      18.7      2.94    33.4      Yes  \n",
       "4  222      18.7      5.33    36.2      Yes  "
      ]
     },
     "execution_count": 20,
     "metadata": {},
     "output_type": "execute_result"
    }
   ],
   "source": [
    "boston_df.head()"
   ]
  },
  {
   "cell_type": "code",
   "execution_count": 21,
   "id": "fc9a21dc",
   "metadata": {},
   "outputs": [
    {
     "data": {
      "text/html": [
       "<div>\n",
       "<style scoped>\n",
       "    .dataframe tbody tr th:only-of-type {\n",
       "        vertical-align: middle;\n",
       "    }\n",
       "\n",
       "    .dataframe tbody tr th {\n",
       "        vertical-align: top;\n",
       "    }\n",
       "\n",
       "    .dataframe thead th {\n",
       "        text-align: right;\n",
       "    }\n",
       "</style>\n",
       "<table border=\"1\" class=\"dataframe\">\n",
       "  <thead>\n",
       "    <tr style=\"text-align: right;\">\n",
       "      <th></th>\n",
       "      <th>CRIME</th>\n",
       "      <th>ZONE</th>\n",
       "      <th>INDUST</th>\n",
       "      <th>CHAR RIV</th>\n",
       "      <th>NIT OXIDE</th>\n",
       "      <th>ROOMS</th>\n",
       "      <th>AGE</th>\n",
       "      <th>DISTANCE</th>\n",
       "      <th>RADIAL</th>\n",
       "      <th>TAX</th>\n",
       "      <th>ST RATIO</th>\n",
       "      <th>LOW STAT</th>\n",
       "      <th>MVALUE</th>\n",
       "      <th>C MVALUE</th>\n",
       "    </tr>\n",
       "  </thead>\n",
       "  <tbody>\n",
       "    <tr>\n",
       "      <th>501</th>\n",
       "      <td>0.06263</td>\n",
       "      <td>0.0</td>\n",
       "      <td>11.93</td>\n",
       "      <td>N</td>\n",
       "      <td>0.573</td>\n",
       "      <td>6.593</td>\n",
       "      <td>69.1</td>\n",
       "      <td>2.4786</td>\n",
       "      <td>1</td>\n",
       "      <td>273</td>\n",
       "      <td>21.0</td>\n",
       "      <td>9.67</td>\n",
       "      <td>22.4</td>\n",
       "      <td>No</td>\n",
       "    </tr>\n",
       "    <tr>\n",
       "      <th>502</th>\n",
       "      <td>0.04527</td>\n",
       "      <td>0.0</td>\n",
       "      <td>11.93</td>\n",
       "      <td>N</td>\n",
       "      <td>0.573</td>\n",
       "      <td>6.120</td>\n",
       "      <td>76.7</td>\n",
       "      <td>2.2875</td>\n",
       "      <td>1</td>\n",
       "      <td>273</td>\n",
       "      <td>21.0</td>\n",
       "      <td>9.08</td>\n",
       "      <td>20.6</td>\n",
       "      <td>No</td>\n",
       "    </tr>\n",
       "    <tr>\n",
       "      <th>503</th>\n",
       "      <td>0.06076</td>\n",
       "      <td>0.0</td>\n",
       "      <td>11.93</td>\n",
       "      <td>N</td>\n",
       "      <td>0.573</td>\n",
       "      <td>6.976</td>\n",
       "      <td>91.0</td>\n",
       "      <td>2.1675</td>\n",
       "      <td>1</td>\n",
       "      <td>273</td>\n",
       "      <td>21.0</td>\n",
       "      <td>5.64</td>\n",
       "      <td>23.9</td>\n",
       "      <td>No</td>\n",
       "    </tr>\n",
       "    <tr>\n",
       "      <th>504</th>\n",
       "      <td>0.10959</td>\n",
       "      <td>0.0</td>\n",
       "      <td>11.93</td>\n",
       "      <td>N</td>\n",
       "      <td>0.573</td>\n",
       "      <td>6.794</td>\n",
       "      <td>89.3</td>\n",
       "      <td>2.3889</td>\n",
       "      <td>1</td>\n",
       "      <td>273</td>\n",
       "      <td>21.0</td>\n",
       "      <td>6.48</td>\n",
       "      <td>22.0</td>\n",
       "      <td>No</td>\n",
       "    </tr>\n",
       "    <tr>\n",
       "      <th>505</th>\n",
       "      <td>0.04741</td>\n",
       "      <td>0.0</td>\n",
       "      <td>11.93</td>\n",
       "      <td>N</td>\n",
       "      <td>0.573</td>\n",
       "      <td>6.030</td>\n",
       "      <td>80.8</td>\n",
       "      <td>2.5050</td>\n",
       "      <td>1</td>\n",
       "      <td>273</td>\n",
       "      <td>21.0</td>\n",
       "      <td>7.88</td>\n",
       "      <td>11.9</td>\n",
       "      <td>No</td>\n",
       "    </tr>\n",
       "  </tbody>\n",
       "</table>\n",
       "</div>"
      ],
      "text/plain": [
       "       CRIME  ZONE  INDUST CHAR RIV  NIT OXIDE  ROOMS   AGE  DISTANCE  RADIAL  \\\n",
       "501  0.06263   0.0   11.93        N      0.573  6.593  69.1    2.4786       1   \n",
       "502  0.04527   0.0   11.93        N      0.573  6.120  76.7    2.2875       1   \n",
       "503  0.06076   0.0   11.93        N      0.573  6.976  91.0    2.1675       1   \n",
       "504  0.10959   0.0   11.93        N      0.573  6.794  89.3    2.3889       1   \n",
       "505  0.04741   0.0   11.93        N      0.573  6.030  80.8    2.5050       1   \n",
       "\n",
       "     TAX  ST RATIO  LOW STAT  MVALUE C MVALUE  \n",
       "501  273      21.0      9.67    22.4       No  \n",
       "502  273      21.0      9.08    20.6       No  \n",
       "503  273      21.0      5.64    23.9       No  \n",
       "504  273      21.0      6.48    22.0       No  \n",
       "505  273      21.0      7.88    11.9       No  "
      ]
     },
     "execution_count": 21,
     "metadata": {},
     "output_type": "execute_result"
    }
   ],
   "source": [
    "boston_df.tail()"
   ]
  },
  {
   "cell_type": "code",
   "execution_count": 22,
   "id": "ae64781f",
   "metadata": {},
   "outputs": [
    {
     "data": {
      "text/html": [
       "<div>\n",
       "<style scoped>\n",
       "    .dataframe tbody tr th:only-of-type {\n",
       "        vertical-align: middle;\n",
       "    }\n",
       "\n",
       "    .dataframe tbody tr th {\n",
       "        vertical-align: top;\n",
       "    }\n",
       "\n",
       "    .dataframe thead th {\n",
       "        text-align: right;\n",
       "    }\n",
       "</style>\n",
       "<table border=\"1\" class=\"dataframe\">\n",
       "  <thead>\n",
       "    <tr style=\"text-align: right;\">\n",
       "      <th></th>\n",
       "      <th>CRIME</th>\n",
       "      <th>ZONE</th>\n",
       "      <th>INDUST</th>\n",
       "      <th>CHAR RIV</th>\n",
       "      <th>NIT OXIDE</th>\n",
       "      <th>ROOMS</th>\n",
       "      <th>AGE</th>\n",
       "      <th>DISTANCE</th>\n",
       "      <th>RADIAL</th>\n",
       "      <th>TAX</th>\n",
       "      <th>ST RATIO</th>\n",
       "      <th>LOW STAT</th>\n",
       "      <th>MVALUE</th>\n",
       "      <th>C MVALUE</th>\n",
       "    </tr>\n",
       "  </thead>\n",
       "  <tbody>\n",
       "    <tr>\n",
       "      <th>422</th>\n",
       "      <td>12.04820</td>\n",
       "      <td>0.0</td>\n",
       "      <td>18.10</td>\n",
       "      <td>N</td>\n",
       "      <td>0.614</td>\n",
       "      <td>5.648</td>\n",
       "      <td>87.6</td>\n",
       "      <td>1.9512</td>\n",
       "      <td>24</td>\n",
       "      <td>666</td>\n",
       "      <td>20.2</td>\n",
       "      <td>14.10</td>\n",
       "      <td>20.8</td>\n",
       "      <td>No</td>\n",
       "    </tr>\n",
       "    <tr>\n",
       "      <th>190</th>\n",
       "      <td>0.09068</td>\n",
       "      <td>45.0</td>\n",
       "      <td>3.44</td>\n",
       "      <td>N</td>\n",
       "      <td>0.437</td>\n",
       "      <td>6.951</td>\n",
       "      <td>21.5</td>\n",
       "      <td>6.4798</td>\n",
       "      <td>5</td>\n",
       "      <td>398</td>\n",
       "      <td>15.2</td>\n",
       "      <td>5.10</td>\n",
       "      <td>37.0</td>\n",
       "      <td>Yes</td>\n",
       "    </tr>\n",
       "    <tr>\n",
       "      <th>205</th>\n",
       "      <td>0.13642</td>\n",
       "      <td>0.0</td>\n",
       "      <td>10.59</td>\n",
       "      <td>N</td>\n",
       "      <td>0.489</td>\n",
       "      <td>5.891</td>\n",
       "      <td>22.3</td>\n",
       "      <td>3.9454</td>\n",
       "      <td>4</td>\n",
       "      <td>277</td>\n",
       "      <td>18.6</td>\n",
       "      <td>10.87</td>\n",
       "      <td>22.6</td>\n",
       "      <td>No</td>\n",
       "    </tr>\n",
       "    <tr>\n",
       "      <th>365</th>\n",
       "      <td>4.55587</td>\n",
       "      <td>0.0</td>\n",
       "      <td>18.10</td>\n",
       "      <td>N</td>\n",
       "      <td>0.718</td>\n",
       "      <td>3.561</td>\n",
       "      <td>87.9</td>\n",
       "      <td>1.6132</td>\n",
       "      <td>24</td>\n",
       "      <td>666</td>\n",
       "      <td>20.2</td>\n",
       "      <td>7.12</td>\n",
       "      <td>27.5</td>\n",
       "      <td>No</td>\n",
       "    </tr>\n",
       "    <tr>\n",
       "      <th>378</th>\n",
       "      <td>23.64820</td>\n",
       "      <td>0.0</td>\n",
       "      <td>18.10</td>\n",
       "      <td>N</td>\n",
       "      <td>0.671</td>\n",
       "      <td>6.380</td>\n",
       "      <td>96.2</td>\n",
       "      <td>1.3861</td>\n",
       "      <td>24</td>\n",
       "      <td>666</td>\n",
       "      <td>20.2</td>\n",
       "      <td>23.69</td>\n",
       "      <td>13.1</td>\n",
       "      <td>No</td>\n",
       "    </tr>\n",
       "  </tbody>\n",
       "</table>\n",
       "</div>"
      ],
      "text/plain": [
       "        CRIME  ZONE  INDUST CHAR RIV  NIT OXIDE  ROOMS   AGE  DISTANCE  \\\n",
       "422  12.04820   0.0   18.10        N      0.614  5.648  87.6    1.9512   \n",
       "190   0.09068  45.0    3.44        N      0.437  6.951  21.5    6.4798   \n",
       "205   0.13642   0.0   10.59        N      0.489  5.891  22.3    3.9454   \n",
       "365   4.55587   0.0   18.10        N      0.718  3.561  87.9    1.6132   \n",
       "378  23.64820   0.0   18.10        N      0.671  6.380  96.2    1.3861   \n",
       "\n",
       "     RADIAL  TAX  ST RATIO  LOW STAT  MVALUE C MVALUE  \n",
       "422      24  666      20.2     14.10    20.8       No  \n",
       "190       5  398      15.2      5.10    37.0      Yes  \n",
       "205       4  277      18.6     10.87    22.6       No  \n",
       "365      24  666      20.2      7.12    27.5       No  \n",
       "378      24  666      20.2     23.69    13.1       No  "
      ]
     },
     "execution_count": 22,
     "metadata": {},
     "output_type": "execute_result"
    }
   ],
   "source": [
    "# Use the sample() function to retrieve a random sample of observations. \n",
    "# Here we sample 5 observations without replacement.\n",
    "boston_df.sample(5)"
   ]
  },
  {
   "cell_type": "code",
   "execution_count": 23,
   "id": "e76c2b37",
   "metadata": {},
   "outputs": [
    {
     "name": "stdout",
     "output_type": "stream",
     "text": [
      "Original column titles:\n"
     ]
    },
    {
     "data": {
      "text/plain": [
       "Index(['CRIME', 'ZONE', 'INDUST', 'CHAR RIV', 'NIT OXIDE', 'ROOMS', 'AGE',\n",
       "       'DISTANCE', 'RADIAL', 'TAX', 'ST RATIO', 'LOW STAT', 'MVALUE',\n",
       "       'C MVALUE'],\n",
       "      dtype='object')"
      ]
     },
     "execution_count": 23,
     "metadata": {},
     "output_type": "execute_result"
    }
   ],
   "source": [
    "print('Original column titles:')\n",
    "boston_df.columns"
   ]
  },
  {
   "cell_type": "code",
   "execution_count": 24,
   "id": "9c422bf7",
   "metadata": {},
   "outputs": [
    {
     "name": "stdout",
     "output_type": "stream",
     "text": [
      "Modified column titles with no space and one word for titles:\n"
     ]
    },
    {
     "data": {
      "text/plain": [
       "Index(['CRIME', 'ZONE', 'INDUST', 'CHAR_RIV', 'NIT_OXIDE', 'ROOMS', 'AGE',\n",
       "       'DISTANCE', 'RADIAL', 'TAX', 'ST_RATIO', 'LOW_STAT', 'MVALUE',\n",
       "       'C_MVALUE'],\n",
       "      dtype='object')"
      ]
     },
     "execution_count": 24,
     "metadata": {},
     "output_type": "execute_result"
    }
   ],
   "source": [
    "print('Modified column titles with no space and one word for titles:')\n",
    "boston_df.columns = [s.strip().replace(\" \", \"_\") for s in boston_df.columns]\n",
    "boston_df.columns"
   ]
  },
  {
   "cell_type": "code",
   "execution_count": 25,
   "id": "8722429e",
   "metadata": {},
   "outputs": [
    {
     "data": {
      "text/plain": [
       "CRIME        float64\n",
       "ZONE         float64\n",
       "INDUST       float64\n",
       "CHAR_RIV      object\n",
       "NIT_OXIDE    float64\n",
       "ROOMS        float64\n",
       "AGE          float64\n",
       "DISTANCE     float64\n",
       "RADIAL         int64\n",
       "TAX            int64\n",
       "ST_RATIO     float64\n",
       "LOW_STAT     float64\n",
       "MVALUE       float64\n",
       "C_MVALUE      object\n",
       "dtype: object"
      ]
     },
     "execution_count": 25,
     "metadata": {},
     "output_type": "execute_result"
    }
   ],
   "source": [
    "boston_df.dtypes"
   ]
  },
  {
   "cell_type": "code",
   "execution_count": 26,
   "id": "3e9bc673",
   "metadata": {},
   "outputs": [
    {
     "name": "stdout",
     "output_type": "stream",
     "text": [
      "Original CHAR_RIV and C_MVALUE variables:\n",
      "object object\n",
      " \n",
      "Category levels and changed variable type of CHAR_RIV column:\n",
      "Index(['N', 'Y'], dtype='object')\n",
      "category\n",
      " \n",
      "Category levels and changed variable type of C_MVALUE column:\n",
      "Index(['No', 'Yes'], dtype='object')\n",
      "category\n"
     ]
    }
   ],
   "source": [
    "# The CHAR_RIV and C_MVALUE column are 'object's; does not have \n",
    "# the 'category' definition.\n",
    "print('Original CHAR_RIV and C_MVALUE variables:')\n",
    "print(boston_df.CHAR_RIV.dtype, boston_df.C_MVALUE.dtype )\n",
    "\n",
    "# Need to change variable types to 'category'. \n",
    "boston_df.CHAR_RIV = boston_df.CHAR_RIV.astype('category')\n",
    "boston_df.C_MVALUE = boston_df.C_MVALUE.astype(\"category\")\n",
    "\n",
    "# Display category levels (attributes) and category type.\n",
    "print(' ')\n",
    "print('Category levels and changed variable type of CHAR_RIV column:')\n",
    "print(boston_df.CHAR_RIV.cat.categories)  # It can take one of two levels.\n",
    "print(boston_df.CHAR_RIV.dtype)  # Type is now 'category'.\n",
    "print(' ')\n",
    "print('Category levels and changed variable type of C_MVALUE column:')\n",
    "print(boston_df.C_MVALUE.cat.categories)  # It can take one of two levels.\n",
    "print(boston_df.C_MVALUE.dtype) "
   ]
  },
  {
   "cell_type": "code",
   "execution_count": 29,
   "id": "3cdd215e",
   "metadata": {},
   "outputs": [
    {
     "name": "stdout",
     "output_type": "stream",
     "text": [
      "Modified list of column variables:\n"
     ]
    },
    {
     "data": {
      "text/plain": [
       "Index(['CRIME', 'ZONE', 'INDUST', 'NIT_OXIDE', 'ROOMS', 'AGE', 'DISTANCE',\n",
       "       'RADIAL', 'TAX', 'ST_RATIO', 'LOW_STAT', 'MVALUE', 'CHAR_RIV_Y',\n",
       "       'C_MVALUE_Yes'],\n",
       "      dtype='object')"
      ]
     },
     "execution_count": 29,
     "metadata": {},
     "output_type": "execute_result"
    }
   ],
   "source": [
    "boston_df = pd.get_dummies(boston_df, prefix_sep='_', drop_first = True)\n",
    "print(\"Modified list of column variables:\")\n",
    "boston_df.columns"
   ]
  },
  {
   "cell_type": "code",
   "execution_count": 30,
   "id": "2b95a1cc",
   "metadata": {},
   "outputs": [
    {
     "name": "stdout",
     "output_type": "stream",
     "text": [
      "   CHAR_RIV_Y  C_MVALUE_Yes\n",
      "0           0             0\n",
      "1           0             0\n",
      "2           0             1\n",
      "3           0             1\n",
      "4           0             1\n",
      "5           0             0\n",
      "6           0             0\n",
      "7           0             0\n",
      "8           0             0\n",
      "9           0             0\n"
     ]
    }
   ],
   "source": [
    "# Display values of the new dummy variables, \n",
    "# CHAR_RIV_Y and C_MVALUE_Yes.\n",
    "#if the dummy variale CHAR_RIV_Y is 0 then it is N. Similarly, if the dummy variale C_MVALUE_Yes is 0 then it is No.\n",
    "print(boston_df.loc[:, 'CHAR_RIV_Y':'C_MVALUE_Yes'].head(10))"
   ]
  },
  {
   "cell_type": "code",
   "execution_count": 34,
   "id": "8c696711",
   "metadata": {},
   "outputs": [
    {
     "name": "stdout",
     "output_type": "stream",
     "text": [
      "Descriptive statistics for all the columns in the modified data frame:\n",
      " \n",
      "        CRIME    ZONE  INDUST  NIT_OXIDE   ROOMS     AGE  DISTANCE  RADIAL  \\\n",
      "count  506.00  506.00  506.00     506.00  506.00  506.00    506.00  506.00   \n",
      "mean     3.61   11.36   11.14       0.55    6.28   68.57      3.80    9.55   \n",
      "std      8.60   23.32    6.86       0.12    0.70   28.15      2.11    8.71   \n",
      "min      0.01    0.00    0.46       0.38    3.56    2.90      1.13    1.00   \n",
      "25%      0.08    0.00    5.19       0.45    5.89   45.02      2.10    4.00   \n",
      "50%      0.26    0.00    9.69       0.54    6.21   77.50      3.21    5.00   \n",
      "75%      3.68   12.50   18.10       0.62    6.62   94.07      5.19   24.00   \n",
      "max     88.98  100.00   27.74       0.87    8.78  100.00     12.13   24.00   \n",
      "\n",
      "          TAX  ST_RATIO  LOW_STAT  MVALUE  CHAR_RIV_Y  C_MVALUE_Yes  \n",
      "count  506.00    506.00    506.00  506.00      506.00        506.00  \n",
      "mean   408.24     18.46     12.65   22.53        0.07          0.17  \n",
      "std    168.54      2.16      7.14    9.20        0.25          0.37  \n",
      "min    187.00     12.60      1.73    5.00        0.00          0.00  \n",
      "25%    279.00     17.40      6.95   17.02        0.00          0.00  \n",
      "50%    330.00     19.05     11.36   21.20        0.00          0.00  \n",
      "75%    666.00     20.20     16.96   25.00        0.00          0.00  \n",
      "max    711.00     22.00     37.97   50.00        1.00          1.00  \n"
     ]
    },
    {
     "ename": "PermissionError",
     "evalue": "[Errno 13] Permission denied: 'D:\\\\BAN 620 Data MIning\\\\Case studies\\\\Case 1\\\\out.csv'",
     "output_type": "error",
     "traceback": [
      "\u001b[1;31m---------------------------------------------------------------------------\u001b[0m",
      "\u001b[1;31mPermissionError\u001b[0m                           Traceback (most recent call last)",
      "\u001b[1;32m<ipython-input-34-51c2d1d141f0>\u001b[0m in \u001b[0;36m<module>\u001b[1;34m\u001b[0m\n\u001b[0;32m      4\u001b[0m \u001b[0mprint\u001b[0m\u001b[1;33m(\u001b[0m\u001b[0mdes_df\u001b[0m\u001b[1;33m)\u001b[0m\u001b[1;33m\u001b[0m\u001b[1;33m\u001b[0m\u001b[0m\n\u001b[0;32m      5\u001b[0m \u001b[0mfilepath\u001b[0m \u001b[1;33m=\u001b[0m \u001b[0mPath\u001b[0m\u001b[1;33m(\u001b[0m\u001b[1;34m\"D:\\BAN 620 Data MIning\\Case studies\\Case 1\\out.csv\"\u001b[0m\u001b[1;33m)\u001b[0m\u001b[1;33m\u001b[0m\u001b[1;33m\u001b[0m\u001b[0m\n\u001b[1;32m----> 6\u001b[1;33m \u001b[0mdes_df\u001b[0m\u001b[1;33m.\u001b[0m\u001b[0mto_csv\u001b[0m\u001b[1;33m(\u001b[0m\u001b[0mfilepath\u001b[0m\u001b[1;33m)\u001b[0m\u001b[1;33m\u001b[0m\u001b[1;33m\u001b[0m\u001b[0m\n\u001b[0m",
      "\u001b[1;32mC:\\ProgramData\\Anaconda3\\lib\\site-packages\\pandas\\core\\generic.py\u001b[0m in \u001b[0;36mto_csv\u001b[1;34m(self, path_or_buf, sep, na_rep, float_format, columns, header, index, index_label, mode, encoding, compression, quoting, quotechar, line_terminator, chunksize, date_format, doublequote, escapechar, decimal, errors, storage_options)\u001b[0m\n\u001b[0;32m   3385\u001b[0m         )\n\u001b[0;32m   3386\u001b[0m \u001b[1;33m\u001b[0m\u001b[0m\n\u001b[1;32m-> 3387\u001b[1;33m         return DataFrameRenderer(formatter).to_csv(\n\u001b[0m\u001b[0;32m   3388\u001b[0m             \u001b[0mpath_or_buf\u001b[0m\u001b[1;33m,\u001b[0m\u001b[1;33m\u001b[0m\u001b[1;33m\u001b[0m\u001b[0m\n\u001b[0;32m   3389\u001b[0m             \u001b[0mline_terminator\u001b[0m\u001b[1;33m=\u001b[0m\u001b[0mline_terminator\u001b[0m\u001b[1;33m,\u001b[0m\u001b[1;33m\u001b[0m\u001b[1;33m\u001b[0m\u001b[0m\n",
      "\u001b[1;32mC:\\ProgramData\\Anaconda3\\lib\\site-packages\\pandas\\io\\formats\\format.py\u001b[0m in \u001b[0;36mto_csv\u001b[1;34m(self, path_or_buf, encoding, sep, columns, index_label, mode, compression, quoting, quotechar, line_terminator, chunksize, date_format, doublequote, escapechar, errors, storage_options)\u001b[0m\n\u001b[0;32m   1081\u001b[0m             \u001b[0mformatter\u001b[0m\u001b[1;33m=\u001b[0m\u001b[0mself\u001b[0m\u001b[1;33m.\u001b[0m\u001b[0mfmt\u001b[0m\u001b[1;33m,\u001b[0m\u001b[1;33m\u001b[0m\u001b[1;33m\u001b[0m\u001b[0m\n\u001b[0;32m   1082\u001b[0m         )\n\u001b[1;32m-> 1083\u001b[1;33m         \u001b[0mcsv_formatter\u001b[0m\u001b[1;33m.\u001b[0m\u001b[0msave\u001b[0m\u001b[1;33m(\u001b[0m\u001b[1;33m)\u001b[0m\u001b[1;33m\u001b[0m\u001b[1;33m\u001b[0m\u001b[0m\n\u001b[0m\u001b[0;32m   1084\u001b[0m \u001b[1;33m\u001b[0m\u001b[0m\n\u001b[0;32m   1085\u001b[0m         \u001b[1;32mif\u001b[0m \u001b[0mcreated_buffer\u001b[0m\u001b[1;33m:\u001b[0m\u001b[1;33m\u001b[0m\u001b[1;33m\u001b[0m\u001b[0m\n",
      "\u001b[1;32mC:\\ProgramData\\Anaconda3\\lib\\site-packages\\pandas\\io\\formats\\csvs.py\u001b[0m in \u001b[0;36msave\u001b[1;34m(self)\u001b[0m\n\u001b[0;32m    226\u001b[0m         \"\"\"\n\u001b[0;32m    227\u001b[0m         \u001b[1;31m# apply compression and byte/text conversion\u001b[0m\u001b[1;33m\u001b[0m\u001b[1;33m\u001b[0m\u001b[1;33m\u001b[0m\u001b[0m\n\u001b[1;32m--> 228\u001b[1;33m         with get_handle(\n\u001b[0m\u001b[0;32m    229\u001b[0m             \u001b[0mself\u001b[0m\u001b[1;33m.\u001b[0m\u001b[0mfilepath_or_buffer\u001b[0m\u001b[1;33m,\u001b[0m\u001b[1;33m\u001b[0m\u001b[1;33m\u001b[0m\u001b[0m\n\u001b[0;32m    230\u001b[0m             \u001b[0mself\u001b[0m\u001b[1;33m.\u001b[0m\u001b[0mmode\u001b[0m\u001b[1;33m,\u001b[0m\u001b[1;33m\u001b[0m\u001b[1;33m\u001b[0m\u001b[0m\n",
      "\u001b[1;32mC:\\ProgramData\\Anaconda3\\lib\\site-packages\\pandas\\io\\common.py\u001b[0m in \u001b[0;36mget_handle\u001b[1;34m(path_or_buf, mode, encoding, compression, memory_map, is_text, errors, storage_options)\u001b[0m\n\u001b[0;32m    640\u001b[0m                 \u001b[0merrors\u001b[0m \u001b[1;33m=\u001b[0m \u001b[1;34m\"replace\"\u001b[0m\u001b[1;33m\u001b[0m\u001b[1;33m\u001b[0m\u001b[0m\n\u001b[0;32m    641\u001b[0m             \u001b[1;31m# Encoding\u001b[0m\u001b[1;33m\u001b[0m\u001b[1;33m\u001b[0m\u001b[1;33m\u001b[0m\u001b[0m\n\u001b[1;32m--> 642\u001b[1;33m             handle = open(\n\u001b[0m\u001b[0;32m    643\u001b[0m                 \u001b[0mhandle\u001b[0m\u001b[1;33m,\u001b[0m\u001b[1;33m\u001b[0m\u001b[1;33m\u001b[0m\u001b[0m\n\u001b[0;32m    644\u001b[0m                 \u001b[0mioargs\u001b[0m\u001b[1;33m.\u001b[0m\u001b[0mmode\u001b[0m\u001b[1;33m,\u001b[0m\u001b[1;33m\u001b[0m\u001b[1;33m\u001b[0m\u001b[0m\n",
      "\u001b[1;31mPermissionError\u001b[0m: [Errno 13] Permission denied: 'D:\\\\BAN 620 Data MIning\\\\Case studies\\\\Case 1\\\\out.csv'"
     ]
    }
   ],
   "source": [
    "des_df = pd.DataFrame(np.round(boston_df.describe(), decimals=2))\n",
    "print(\"Descriptive statistics for all the columns in the modified data frame:\")\n",
    "print(\" \")\n",
    "print(des_df)\n",
    "# filepath = Path(\"D:\\BAN 620 Data MIning\\Case studies\\Case 1\\out.csv\")\n",
    "# des_df.to_csv(filepath)"
   ]
  },
  {
   "cell_type": "code",
   "execution_count": 35,
   "id": "31425ed8",
   "metadata": {},
   "outputs": [
    {
     "name": "stdout",
     "output_type": "stream",
     "text": [
      "               Count\n",
      "CRIME           506\n",
      "ZONE            506\n",
      "INDUST          506\n",
      "NIT_OXIDE       506\n",
      "ROOMS           506\n",
      "AGE             506\n",
      "DISTANCE        506\n",
      "RADIAL          506\n",
      "TAX             506\n",
      "ST_RATIO        506\n",
      "LOW_STAT        506\n",
      "MVALUE          506\n",
      "CHAR_RIV_Y      506\n",
      "C_MVALUE_Yes    506\n",
      "dtype: int64\n"
     ]
    }
   ],
   "source": [
    "print(\"               Count\")\n",
    "print(boston_df[:].count()) #find out missing values #result shows no missing values"
   ]
  },
  {
   "cell_type": "markdown",
   "id": "a8c4fde8",
   "metadata": {},
   "source": [
    "## Linear Regression Model"
   ]
  },
  {
   "cell_type": "code",
   "execution_count": 36,
   "id": "d94e6452",
   "metadata": {},
   "outputs": [],
   "source": [
    "excludeCol = ['MVALUE'] #excluding the columns other than predictors"
   ]
  },
  {
   "cell_type": "code",
   "execution_count": 37,
   "id": "0f58ea2d",
   "metadata": {},
   "outputs": [],
   "source": [
    "predictors = [s for s in boston_df if s not in excludeCol]"
   ]
  },
  {
   "cell_type": "code",
   "execution_count": 38,
   "id": "4ab767d4",
   "metadata": {},
   "outputs": [
    {
     "name": "stdout",
     "output_type": "stream",
     "text": [
      "['CRIME', 'ZONE', 'INDUST', 'NIT_OXIDE', 'ROOMS', 'AGE', 'DISTANCE', 'RADIAL', 'TAX', 'ST_RATIO', 'LOW_STAT', 'CHAR_RIV_Y', 'C_MVALUE_Yes']\n"
     ]
    }
   ],
   "source": [
    "print(predictors)"
   ]
  },
  {
   "cell_type": "code",
   "execution_count": 39,
   "id": "645919ad",
   "metadata": {},
   "outputs": [],
   "source": [
    "outcome = 'MVALUE' # defining the outcome variable"
   ]
  },
  {
   "cell_type": "code",
   "execution_count": 40,
   "id": "ceda7463",
   "metadata": {},
   "outputs": [],
   "source": [
    "X = boston_df[predictors]\n",
    "y = boston_df[outcome]\n",
    "train_X, valid_X, train_y, valid_y = train_test_split(X, y, test_size=0.4, random_state=1)"
   ]
  },
  {
   "cell_type": "code",
   "execution_count": 41,
   "id": "5f3d970d",
   "metadata": {},
   "outputs": [
    {
     "data": {
      "text/plain": [
       "LinearRegression()"
      ]
     },
     "execution_count": 41,
     "metadata": {},
     "output_type": "execute_result"
    }
   ],
   "source": [
    "lin_model = LinearRegression()\n",
    "lin_model.fit(train_X, train_y)"
   ]
  },
  {
   "cell_type": "code",
   "execution_count": 45,
   "id": "b1046cb1",
   "metadata": {},
   "outputs": [
    {
     "name": "stdout",
     "output_type": "stream",
     "text": [
      "Regression Model for Boston Housing Training Set\n",
      "\n",
      "Intercept:  43.65\n",
      "\n",
      "       Predictor  Coefficient\n",
      "0          CRIME        -0.14\n",
      "1           ZONE         0.01\n",
      "2         INDUST         0.12\n",
      "3      NIT_OXIDE       -16.47\n",
      "4          ROOMS         0.89\n",
      "5            AGE        -0.01\n",
      "6       DISTANCE        -0.72\n",
      "7         RADIAL         0.20\n",
      "8            TAX        -0.01\n",
      "9       ST_RATIO        -0.58\n",
      "10      LOW_STAT        -0.45\n",
      "11    CHAR_RIV_Y         2.11\n",
      "12  C_MVALUE_Yes        10.99\n"
     ]
    }
   ],
   "source": [
    "# Display intercept and regression coefficients. Round them to 2 decimals.\n",
    "print('Regression Model for Boston Housing Training Set')\n",
    "print()\n",
    "print('Intercept: ', np.round(lin_model.intercept_, 2))\n",
    "print(\"\")\n",
    "reg_coeff_df = pd.DataFrame({'Predictor': X.columns, 'Coefficient': np.round(lin_model.coef_, 2)})\n",
    "print(reg_coeff_df)"
   ]
  },
  {
   "cell_type": "code",
   "execution_count": 46,
   "id": "9d00e20a",
   "metadata": {},
   "outputs": [
    {
     "name": "stdout",
     "output_type": "stream",
     "text": [
      "43.65 +\n",
      "-0.14 * CRIME +\n",
      "0.01 * ZONE +\n",
      "0.12 * INDUST +\n",
      "-16.47 * NIT_OXIDE +\n",
      "0.89 * ROOMS +\n",
      "-0.01 * AGE +\n",
      "-0.72 * DISTANCE +\n",
      "0.2 * RADIAL +\n",
      "-0.01 * TAX +\n",
      "-0.58 * ST_RATIO +\n",
      "-0.45 * LOW_STAT +\n",
      "2.11 * CHAR_RIV_Y +\n",
      "10.99 * C_MVALUE_Yes +\n"
     ]
    }
   ],
   "source": [
    "# MAthematical equation for the linear Regression smodel\n",
    "print((np.round(lin_model.intercept_, 2)), '+')\n",
    "for row in range(len(reg_coeff_df.Predictor)):\n",
    "#     print(row)\n",
    "    print(reg_coeff_df.Coefficient[row], '*', reg_coeff_df.Predictor[row], '+')\n",
    "    "
   ]
  },
  {
   "cell_type": "code",
   "execution_count": 47,
   "id": "7a170fe1",
   "metadata": {},
   "outputs": [
    {
     "name": "stdout",
     "output_type": "stream",
     "text": [
      "Actual, Predicted, and Residual Prices for Validation Set\n",
      "     Actual  Predicted  Residual\n",
      "307    28.2      25.53      2.67\n",
      "343    23.9      22.95      0.95\n",
      "47     16.6      17.89     -1.29\n",
      "67     22.0      21.81      0.19\n",
      "362    20.8      18.89      1.91\n",
      "132    23.0      19.60      3.40\n",
      "292    27.9      25.95      1.95\n",
      "31     14.5      17.90     -3.40\n",
      "218    21.5      22.40     -0.90\n",
      "90     22.6      23.25     -0.65\n"
     ]
    }
   ],
   "source": [
    "valid_pred_y = lin_model.predict(valid_X)\n",
    "\n",
    "# Develop and display data frame with actual values of Price,\n",
    "# scoring (predicted) results, and residuals.\n",
    "print('Actual, Predicted, and Residual Prices for Validation Set')\n",
    "result = round(pd.DataFrame({'Actual': valid_y,'Predicted': valid_pred_y, \n",
    "                       'Residual': valid_y - valid_pred_y}), 2)\n",
    "print(result.head(10))"
   ]
  },
  {
   "cell_type": "code",
   "execution_count": 48,
   "id": "39c06800",
   "metadata": {},
   "outputs": [
    {
     "name": "stdout",
     "output_type": "stream",
     "text": [
      "Actual, Predicted, and Residual Prices for Training Set\n",
      "     Actual  Predicted  Residual\n",
      "452    16.1      17.10     -1.00\n",
      "346    17.2      17.48     -0.28\n",
      "295    28.6      26.13      2.47\n",
      "88     23.6      24.93     -1.33\n",
      "322    20.4      22.11     -1.71\n",
      "131    19.6      19.00      0.60\n",
      "124    18.8      20.34     -1.54\n",
      "174    22.6      23.47     -0.87\n",
      "461    17.7      18.43     -0.73\n",
      "191    30.5      36.54     -6.04\n"
     ]
    }
   ],
   "source": [
    "train_pred_y = lin_model.predict(train_X)\n",
    "\n",
    "# Develop and display data frame with actual values of Price,\n",
    "# scoring (predicted) results, and residuals.\n",
    "print('Actual, Predicted, and Residual Prices for Training Set')\n",
    "result = round(pd.DataFrame({'Actual': train_y,'Predicted': train_pred_y, \n",
    "                       'Residual': train_y - train_pred_y}), 2)\n",
    "print(result.head(10))"
   ]
  },
  {
   "cell_type": "code",
   "execution_count": 49,
   "id": "599e9615",
   "metadata": {},
   "outputs": [],
   "source": [
    "# Create prediction performance measures for training set.\n",
    "r2 = round(r2_score(train_y, train_pred_y),3)\n",
    "adj_r2 = round(adjusted_r2_score(train_y, train_pred_y, lin_model),3)"
   ]
  },
  {
   "cell_type": "code",
   "execution_count": 50,
   "id": "5849cb22",
   "metadata": {},
   "outputs": [
    {
     "name": "stdout",
     "output_type": "stream",
     "text": [
      "Prediction Performance Measures for Training Set\n",
      "r2 :  0.839\n",
      "Adjusted r2 :  0.832\n"
     ]
    }
   ],
   "source": [
    "# Display prediction performance measures for training set.\n",
    "print('Prediction Performance Measures for Training Set')\n",
    "print('r2 : ', r2)\n",
    "print('Adjusted r2 : ', adj_r2)"
   ]
  },
  {
   "cell_type": "code",
   "execution_count": 51,
   "id": "106b9620",
   "metadata": {},
   "outputs": [],
   "source": [
    "# Create prediction performance measures for validation set.\n",
    "r2 = round(r2_score(valid_y, valid_pred_y),3)\n",
    "adj_r2 = round(adjusted_r2_score(valid_y, valid_pred_y, lin_model),3)"
   ]
  },
  {
   "cell_type": "code",
   "execution_count": 53,
   "id": "d0e534cf",
   "metadata": {},
   "outputs": [
    {
     "name": "stdout",
     "output_type": "stream",
     "text": [
      "Prediction Performance Measures for Validation Set\n",
      "r2 :  0.834\n",
      "Adjusted r2 :  0.822\n"
     ]
    }
   ],
   "source": [
    "# Display prediction performance measures for validation set.\n",
    "print('Prediction Performance Measures for Validation Set')\n",
    "print('r2 : ', r2)\n",
    "print('Adjusted r2 : ', adj_r2)"
   ]
  },
  {
   "cell_type": "code",
   "execution_count": 191,
   "id": "e3e68d85",
   "metadata": {},
   "outputs": [
    {
     "name": "stdout",
     "output_type": "stream",
     "text": [
      "Common Accuracy Measures for Training Set - All Variables\n",
      "\n",
      "Regression statistics\n",
      "\n",
      "                      Mean Error (ME) : 0.0000\n",
      "       Root Mean Squared Error (RMSE) : 3.5845\n",
      "            Mean Absolute Error (MAE) : 2.5961\n",
      "          Mean Percentage Error (MPE) : -2.7127\n",
      "Mean Absolute Percentage Error (MAPE) : 13.1715\n",
      "\n",
      "Common Accuracy Measures for Validation Set - All Variables\n",
      "\n",
      "Regression statistics\n",
      "\n",
      "                      Mean Error (ME) : 0.4347\n",
      "       Root Mean Squared Error (RMSE) : 3.8763\n",
      "            Mean Absolute Error (MAE) : 2.7696\n",
      "          Mean Percentage Error (MPE) : -2.2773\n",
      "Mean Absolute Percentage Error (MAPE) : 13.3233\n"
     ]
    }
   ],
   "source": [
    "# Display common accuracy measures for training set.\n",
    "print('Common Accuracy Measures for Training Set - All Variables')\n",
    "regressionSummary(train_y, train_pred_y)\n",
    "print()\n",
    "\n",
    "# Display common accuracy measures for validation set.\n",
    "print('Common Accuracy Measures for Validation Set - All Variables')\n",
    "regressionSummary(valid_y, valid_pred_y)"
   ]
  },
  {
   "cell_type": "markdown",
   "id": "cd1ea734",
   "metadata": {},
   "source": [
    "# Exhaustive Search Algorithm "
   ]
  },
  {
   "cell_type": "code",
   "execution_count": 54,
   "id": "ceb73bec",
   "metadata": {},
   "outputs": [
    {
     "name": "stdout",
     "output_type": "stream",
     "text": [
      "     n     r2adj          AIC    AGE  CHAR_RIV_Y  CRIME  C_MVALUE_Yes  DISTANCE  INDUST  LOW_STAT  \\\n",
      "0    1  0.604171  1911.931006  False       False  False          True     False   False     False   \n",
      "1    2  0.793030  1716.454818  False       False  False          True     False   False      True   \n",
      "2    3  0.804621  1699.980252  False       False   True          True     False   False      True   \n",
      "3    4  0.810106  1692.338134  False        True   True          True     False   False      True   \n",
      "4    5  0.814675  1685.940421  False        True   True          True     False   False      True   \n",
      "5    6  0.821125  1676.183684  False       False   True          True      True   False      True   \n",
      "6    7  0.826096  1668.619824  False       False   True          True      True   False      True   \n",
      "7    8  0.830529  1661.766431  False        True   True          True      True   False      True   \n",
      "8    9  0.831819  1660.418877  False        True   True          True      True   False      True   \n",
      "9   10  0.831941  1661.163238  False        True   True          True      True    True      True   \n",
      "10  11  0.833103  1660.021045  False        True   True          True      True    True      True   \n",
      "11  12  0.832716  1661.680840  False        True   True          True      True    True      True   \n",
      "12  13  0.832228  1663.515572   True        True   True          True      True    True      True   \n",
      "\n",
      "    NIT_OXIDE  RADIAL  ROOMS  ST_RATIO    TAX   ZONE  \n",
      "0       False   False  False     False  False  False  \n",
      "1       False   False  False     False  False  False  \n",
      "2       False   False  False     False  False  False  \n",
      "3       False   False  False     False  False  False  \n",
      "4       False   False  False      True  False  False  \n",
      "5        True   False  False      True  False  False  \n",
      "6        True    True  False      True  False  False  \n",
      "7        True    True  False      True  False  False  \n",
      "8        True    True   True      True  False  False  \n",
      "9        True    True   True      True  False  False  \n",
      "10       True    True   True      True   True  False  \n",
      "11       True    True   True      True   True   True  \n",
      "12       True    True   True      True   True   True  \n"
     ]
    }
   ],
   "source": [
    "# modeling with different combination of variables\n",
    "def train_model(variables): #variables- no. of predictors may be different\n",
    "    model = LinearRegression()\n",
    "    model.fit(train_X[variables], train_y)\n",
    "    return model\n",
    "\n",
    "# Define score_model() function used in Executive Search\n",
    "# algorithm with executive_search() function. \n",
    "def score_model(model, variables):  #score_model() function that score the model performance using adjusted_r2.\n",
    "    pred_y = model.predict(train_X[variables])\n",
    "    # Apply negative sign as score is optimized to be \n",
    "    # as low as possible in exhaustive_search() function.\n",
    "    return -adjusted_r2_score(train_y, pred_y, model)\n",
    "\n",
    "# Create allVariables object with predcitors in train_X,\n",
    "# i.e., training data set, with 11 predictor columns and \n",
    "# 600 records.\n",
    "allVariables = train_X.columns\n",
    "\n",
    "# The exhaustive_search() function consists of 3 arguments:\n",
    "# - allVariables - list of all variables in training data set,\n",
    "# - train_model() function that creates a model for a specific \n",
    "#    combination of variables,\n",
    "# - score_model() function that score the model performance using\n",
    "#     adjusted_r2.\n",
    "results = exhaustive_search(allVariables, train_model, score_model) #this function can analyse different suset of preditors\n",
    "# and identify the best outcome for each subset\n",
    "\n",
    "# Create data[] loop process to identify and append the best model \n",
    "#  for each combination of 1, 2, 3, ..., 11 variables with their \n",
    "# respective number of variables (n), adjusted R_squared (r2adj) and\n",
    "# AIC. \n",
    "data = []\n",
    "for result in results:\n",
    "    model = result['model']\n",
    "    variables = result['variables']\n",
    "    AIC = AIC_score(train_y, model.predict(train_X[variables]), model)\n",
    "    d = {'n': result['n'], 'r2adj': -result['score'], 'AIC': AIC}\n",
    "    d.update({var: var in result['variables'] for var in allVariables})\n",
    "    data.append(d)\n",
    "\n",
    "# Define the width of output presentation to be wider\n",
    "# to display results in two rows (instead of more rows\n",
    "# otherwise). \n",
    "pd.set_option('display.width', 100)\n",
    "\n",
    "# Display the Exhaustive Search results.\n",
    "results = pd.DataFrame(data, columns=('n', 'r2adj', 'AIC') + tuple(sorted(allVariables)))\n",
    "print(results)\n",
    "\n",
    "# Reset the output width to the default. \n",
    "pd.reset_option('display.width')"
   ]
  },
  {
   "cell_type": "code",
   "execution_count": 56,
   "id": "3c719fa7",
   "metadata": {},
   "outputs": [],
   "source": [
    "# filepath = Path(\"D:\\BAN 620 Data MIning\\Case studies\\Case 1\\Ex_results.csv\")\n",
    "# results.to_csv(filepath)"
   ]
  },
  {
   "cell_type": "code",
   "execution_count": 196,
   "id": "19be0704",
   "metadata": {},
   "outputs": [
    {
     "name": "stdout",
     "output_type": "stream",
     "text": [
      "Regression Model for Training Set Using Exhaustive Search\n",
      "\n",
      "Intercept  43.89\n",
      "       Predictor  Coefficient\n",
      "0     CHAR_RIV_Y         2.13\n",
      "1          CRIME        -0.14\n",
      "2   C_MVALUE_Yes        11.11\n",
      "3       DISTANCE        -0.63\n",
      "4         INDUST         0.11\n",
      "5       LOW_STAT        -0.46\n",
      "6      NIT_OXIDE       -16.89\n",
      "7         RADIAL         0.19\n",
      "8          ROOMS         0.86\n",
      "9       ST_RATIO        -0.61\n",
      "10           TAX        -0.01\n"
     ]
    }
   ],
   "source": [
    "# Develop the multiple linear regression model based\n",
    "# on the Exhaustive Search results.\n",
    "\n",
    "# Identify predictors and outcome of the regression model.\n",
    "predictors_ex = ['CHAR_RIV_Y', 'CRIME', 'C_MVALUE_Yes', \n",
    "                 'DISTANCE', 'INDUST', 'LOW_STAT', \n",
    "                 'NIT_OXIDE', 'RADIAL', 'ROOMS', 'ST_RATIO', 'TAX']\n",
    "outcome = 'MVALUE'\n",
    "\n",
    "# Identify X and y variables for regression and partition data\n",
    "# using 60% of records for training and 40% for validation \n",
    "# (test_size=0.4). \n",
    "X = boston_df[predictors_ex]\n",
    "y = boston_df[outcome]\n",
    "train_X_ex, valid_X_ex, train_y_ex, valid_y_ex = train_test_split(X, y, test_size=0.4, random_state=1)\n",
    "\n",
    "# Create multiple linear regression model using X and y.\n",
    "boston_df_ex = LinearRegression()\n",
    "boston_df_ex.fit(train_X_ex, train_y_ex)\n",
    "\n",
    "# Display intercept and regression coefficients. Round them\n",
    "# to 2 decimals.\n",
    "print('Regression Model for Training Set Using Exhaustive Search')\n",
    "print()\n",
    "print('Intercept ', np.round(boston_df_ex.intercept_, 2))\n",
    "regex_coeff_df = pd.DataFrame({'Predictor': X.columns,\n",
    "            'Coefficient': np.round(boston_df_ex.coef_, 2)})\n",
    "print(regex_coeff_df)\n"
   ]
  },
  {
   "cell_type": "code",
   "execution_count": 199,
   "id": "4907833b",
   "metadata": {},
   "outputs": [
    {
     "name": "stdout",
     "output_type": "stream",
     "text": [
      "43.89 +\n",
      "2.13 * CHAR_RIV_Y +\n",
      "-0.14 * CRIME +\n",
      "11.11 * C_MVALUE_Yes +\n",
      "-0.63 * DISTANCE +\n",
      "0.11 * INDUST +\n",
      "-0.46 * LOW_STAT +\n",
      "-16.89 * NIT_OXIDE +\n",
      "0.19 * RADIAL +\n",
      "0.86 * ROOMS +\n",
      "-0.61 * ST_RATIO +\n",
      "-0.01 * TAX +\n"
     ]
    }
   ],
   "source": [
    "# Mathematical equation for the linear Regression model based on Exhaustive search\n",
    "print((np.round(boston_df_ex.intercept_, 2)), '+')\n",
    "for row in range(len(regex_coeff_df.Predictor)):\n",
    "    print(regex_coeff_df.Coefficient[row], '*', regex_coeff_df.Predictor[row], '+')"
   ]
  },
  {
   "cell_type": "code",
   "execution_count": 200,
   "id": "d874c0de",
   "metadata": {},
   "outputs": [
    {
     "name": "stdout",
     "output_type": "stream",
     "text": [
      "\n",
      "Prediction for Validation Set Using Exhaustive Search\n",
      "     Actual  Predicted  Residual\n",
      "307    28.2      25.24      2.96\n",
      "343    23.9      22.78      1.12\n",
      "47     16.6      18.17     -1.57\n",
      "67     22.0      21.86      0.14\n",
      "362    20.8      18.93      1.87\n",
      "132    23.0      19.58      3.42\n",
      "292    27.9      25.25      2.65\n",
      "31     14.5      18.06     -3.56\n",
      "218    21.5      22.49     -0.99\n",
      "90     22.6      23.28     -0.68\n",
      "\n",
      "Accuracy Measures for Validation Set Using Exhaustive Search\n",
      "\n",
      "Regression statistics\n",
      "\n",
      "                      Mean Error (ME) : 0.4505\n",
      "       Root Mean Squared Error (RMSE) : 3.8674\n",
      "            Mean Absolute Error (MAE) : 2.7724\n",
      "          Mean Percentage Error (MPE) : -2.1963\n",
      "Mean Absolute Percentage Error (MAPE) : 13.3441\n"
     ]
    }
   ],
   "source": [
    "# Use predict() function to score (make) predictions \n",
    "# for validation set and measure their accuracy using\n",
    "# Exhaustive Search algorithm.\n",
    "valid_ex_pred_y = boston_df_ex.predict(valid_X_ex)\n",
    "\n",
    "# Develop and display data frame with actual values of Price,\n",
    "# scoring (predicted) results, and residuals.\n",
    "# Use round() function to round vlaues in data frame to \n",
    "# 2 decimals. \n",
    "result = round(pd.DataFrame({'Actual': valid_y_ex,'Predicted': valid_ex_pred_y, \n",
    "                       'Residual': valid_y_ex - valid_ex_pred_y}), 2)\n",
    "print()\n",
    "print('Prediction for Validation Set Using Exhaustive Search') \n",
    "print(result.head(10))\n",
    "\n",
    "# Display common accuracy measures for validation set.\n",
    "print()\n",
    "print('Accuracy Measures for Validation Set Using Exhaustive Search')\n",
    "regressionSummary(valid_y_ex, valid_ex_pred_y)"
   ]
  },
  {
   "cell_type": "markdown",
   "id": "497f1ec9",
   "metadata": {},
   "source": [
    "##  Forward Selection algorithm."
   ]
  },
  {
   "cell_type": "code",
   "execution_count": 202,
   "id": "6446b693",
   "metadata": {},
   "outputs": [
    {
     "name": "stdout",
     "output_type": "stream",
     "text": [
      "Variables: CRIME, ZONE, INDUST, NIT_OXIDE, ROOMS, AGE, DISTANCE, RADIAL, TAX, ST_RATIO, LOW_STAT, CHAR_RIV_Y, C_MVALUE_Yes\n",
      "Start: score=2191.75, constant\n",
      "Step: score=1911.93, add C_MVALUE_Yes\n",
      "Step: score=1716.45, add LOW_STAT\n",
      "Step: score=1699.98, add CRIME\n",
      "Step: score=1692.34, add CHAR_RIV_Y\n",
      "Step: score=1685.94, add ST_RATIO\n",
      "Step: score=1682.90, add ROOMS\n",
      "Step: score=1680.20, add DISTANCE\n",
      "Step: score=1665.78, add NIT_OXIDE\n",
      "Step: score=1660.42, add RADIAL\n",
      "Step: score=1660.42, add None\n",
      "\n",
      "Best Variables from Forward Selection Algorithm\n",
      "['C_MVALUE_Yes', 'LOW_STAT', 'CRIME', 'CHAR_RIV_Y', 'ST_RATIO', 'ROOMS', 'DISTANCE', 'NIT_OXIDE', 'RADIAL']\n",
      "LinearRegression()\n"
     ]
    }
   ],
   "source": [
    "def train_model(variables):\n",
    "    if len(variables) == 0:\n",
    "        return None\n",
    "    model = LinearRegression()\n",
    "    model.fit(train_X[variables], train_y)\n",
    "    return model\n",
    "\n",
    "# Define score_model() function used in Forward Selection\n",
    "# algorithm with forward_selection() function. \n",
    "def score_model(model, variables):\n",
    "    if len(variables) == 0:\n",
    "        return AIC_score(train_y, [train_y.mean()] * len(train_y), model, df=1)\n",
    "    return AIC_score(train_y, model.predict(train_X[variables]), model)\n",
    "\n",
    "# Use forward_selection() function to identify the\n",
    "# best_model and best_variables.\n",
    "best_model_fs, best_variables_fs = forward_selection(train_X.columns, \n",
    "                    train_model, score_model, verbose=True)\n",
    "\n",
    "# Display best variables based on Forward Selection algorithm.\n",
    "print()\n",
    "print('Best Variables from Forward Selection Algorithm')\n",
    "print(best_variables_fs)\n",
    "print(best_model_fs)"
   ]
  },
  {
   "cell_type": "code",
   "execution_count": 206,
   "id": "048a62bf",
   "metadata": {},
   "outputs": [
    {
     "name": "stdout",
     "output_type": "stream",
     "text": [
      "Regression Model for Training Set Using Forward Selection\n",
      "\n",
      "Intercept  42.76\n",
      "      Predictor  Coefficient\n",
      "0  C_MVALUE_Yes        10.97\n",
      "1      LOW_STAT        -0.45\n",
      "2         CRIME        -0.14\n",
      "3    CHAR_RIV_Y         2.36\n",
      "4      ST_RATIO        -0.60\n",
      "5         ROOMS         0.87\n",
      "6      DISTANCE        -0.71\n",
      "7     NIT_OXIDE       -15.95\n",
      "8        RADIAL         0.11\n"
     ]
    }
   ],
   "source": [
    "# Develop the multiple linear regression model based\n",
    "# on the Forward Selection results.\n",
    "\n",
    "# Identify predictors and outcome of the regression model.\n",
    "predictors_fs = best_variables_fs\n",
    "outcome = 'MVALUE'\n",
    "\n",
    "# Identify X and y variables for regression and partition data\n",
    "# using 60% of records for training and 40% for validation \n",
    "# (test_size=0.4). \n",
    "X = boston_df[predictors_fs]\n",
    "y = boston_df[outcome]\n",
    "train_X_fs, valid_X_fs, train_y_fs, valid_y_fs = train_test_split(X, y, test_size=0.4, random_state=1)\n",
    "\n",
    "# Create multiple linear regression model using X and y.\n",
    "boston_fs = LinearRegression()\n",
    "boston_fs.fit(train_X_fs, train_y_fs)\n",
    "\n",
    "# Display intercept and regression coefficients. Round them\n",
    "# to 2 decimals.\n",
    "print('Regression Model for Training Set Using Forward Selection')\n",
    "print()\n",
    "print('Intercept ', np.round(boston_fs.intercept_, 2))\n",
    "reg_fs_coeff = pd.DataFrame({'Predictor': X.columns,\n",
    "            'Coefficient': np.round(boston_fs.coef_, 2)})\n",
    "print(reg_fs_coeff)"
   ]
  },
  {
   "cell_type": "code",
   "execution_count": 207,
   "id": "edddb01f",
   "metadata": {},
   "outputs": [
    {
     "name": "stdout",
     "output_type": "stream",
     "text": [
      "42.76 +\n",
      "10.97 * C_MVALUE_Yes +\n",
      "-0.45 * LOW_STAT +\n",
      "-0.14 * CRIME +\n",
      "2.36 * CHAR_RIV_Y +\n",
      "-0.6 * ST_RATIO +\n",
      "0.87 * ROOMS +\n",
      "-0.71 * DISTANCE +\n",
      "-15.95 * NIT_OXIDE +\n",
      "0.11 * RADIAL +\n"
     ]
    }
   ],
   "source": [
    "# Mathematical equation for the linear Regression model based on Forward Selection\n",
    "print((np.round(boston_fs.intercept_, 2)), '+')\n",
    "for row in range(len(reg_fs_coeff.Predictor)):\n",
    "    print(reg_fs_coeff.Coefficient[row], '*', reg_fs_coeff.Predictor[row], '+')"
   ]
  },
  {
   "cell_type": "code",
   "execution_count": 208,
   "id": "082ff4b2",
   "metadata": {},
   "outputs": [
    {
     "name": "stdout",
     "output_type": "stream",
     "text": [
      "\n",
      "Predictions for Validation Set Using Forward Selection\n",
      "     Actual  Predicted  Residual\n",
      "307    28.2      25.20      3.00\n",
      "343    23.9      23.48      0.42\n",
      "47     16.6      17.85     -1.25\n",
      "67     22.0      22.11     -0.11\n",
      "362    20.8      18.97      1.83\n",
      "132    23.0      19.27      3.73\n",
      "292    27.9      25.07      2.83\n",
      "31     14.5      18.21     -3.71\n",
      "218    21.5      22.04     -0.54\n",
      "90     22.6      23.86     -1.26\n",
      "\n",
      "Accuracy Measures for Validation Set Using Forward Selection\n",
      "\n",
      "Regression statistics\n",
      "\n",
      "                      Mean Error (ME) : 0.4321\n",
      "       Root Mean Squared Error (RMSE) : 3.9314\n",
      "            Mean Absolute Error (MAE) : 2.8585\n",
      "          Mean Percentage Error (MPE) : -2.3792\n",
      "Mean Absolute Percentage Error (MAPE) : 13.8040\n"
     ]
    }
   ],
   "source": [
    "# Use predict() to score predictions for validation set.\n",
    "valid_fs_pred_y = boston_fs.predict(valid_X_fs)\n",
    "\n",
    "# Develop and display data frame with actual values of Price,\n",
    "# scoring (predicted) results, and residuals.\n",
    "# Use round() function to round vlaues in data frame to \n",
    "# 2 decimals. \n",
    "result = round(pd.DataFrame({'Actual': valid_y_fs,'Predicted': valid_fs_pred_y, \n",
    "                       'Residual': valid_y_fs - valid_fs_pred_y}), 2)\n",
    "print()\n",
    "print('Predictions for Validation Set Using Forward Selection')\n",
    "print(result.head(10))\n",
    "\n",
    "# Display common accuracy measures for validation set.\n",
    "print()\n",
    "print('Accuracy Measures for Validation Set Using Forward Selection')\n",
    "regressionSummary(valid_y_fs, valid_fs_pred_y)"
   ]
  }
 ],
 "metadata": {
  "kernelspec": {
   "display_name": "Python 3",
   "language": "python",
   "name": "python3"
  },
  "language_info": {
   "codemirror_mode": {
    "name": "ipython",
    "version": 3
   },
   "file_extension": ".py",
   "mimetype": "text/x-python",
   "name": "python",
   "nbconvert_exporter": "python",
   "pygments_lexer": "ipython3",
   "version": "3.8.8"
  }
 },
 "nbformat": 4,
 "nbformat_minor": 5
}
