{
 "cells": [
  {
   "cell_type": "markdown",
   "id": "14beda06",
   "metadata": {},
   "source": [
    "# Case_Study_3_Logistic_Regression_pd5306"
   ]
  },
  {
   "cell_type": "code",
   "execution_count": 2,
   "id": "56fec982",
   "metadata": {},
   "outputs": [
    {
     "name": "stdout",
     "output_type": "stream",
     "text": [
      "Note: you may need to restart the kernel to use updated packages.\n"
     ]
    }
   ],
   "source": [
    "pip install mord --quiet"
   ]
  },
  {
   "cell_type": "code",
   "execution_count": 32,
   "id": "e2518cb2",
   "metadata": {},
   "outputs": [],
   "source": [
    "from pathlib import Path\n",
    "\n",
    "import pandas as pd\n",
    "import numpy as np\n",
    "\n",
    "from sklearn.linear_model import LogisticRegression\n",
    "from mord import LogisticIT\n",
    "from sklearn.model_selection import train_test_split\n",
    "from dmba import backward_elimination, forward_selection, stepwise_selection\n",
    "from dmba import adjusted_r2_score, AIC_score, BIC_score\n",
    "\n",
    "from dmba import classificationSummary, gainsChart, liftChart\n",
    "import statsmodels.api as sm\n",
    "\n",
    "%matplotlib inline   \n",
    "import matplotlib.pylab as plt"
   ]
  },
  {
   "cell_type": "code",
   "execution_count": 33,
   "id": "b8559468",
   "metadata": {},
   "outputs": [
    {
     "name": "stdout",
     "output_type": "stream",
     "text": [
      "      SCH_TIME CARRIER  DEP_TIME DEST  DISTANCE  FL_NUM ORIGIN  WEATHER  \\\n",
      "0         1455      OH      1455  JFK       184    5935    BWI        0   \n",
      "1         1640      DH      1640  JFK       213    6155    DCA        0   \n",
      "2         1245      DH      1245  LGA       229    7208    IAD        0   \n",
      "3         1715      DH      1709  LGA       229    7215    IAD        0   \n",
      "4         1039      DH      1035  LGA       229    7792    IAD        0   \n",
      "...        ...     ...       ...  ...       ...     ...    ...      ...   \n",
      "2196       645      RU       644  EWR       199    2761    DCA        0   \n",
      "2197      1700      RU      1653  EWR       213    2497    IAD        0   \n",
      "2198      1600      RU      1558  EWR       199    2361    DCA        0   \n",
      "2199      1359      RU      1403  EWR       199    2216    DCA        0   \n",
      "2200      1730      RU      1736  EWR       199    2097    DCA        0   \n",
      "\n",
      "      WK_DAY  MTH_DAY FL_STATUS  \n",
      "0          4        1    ontime  \n",
      "1          4        1    ontime  \n",
      "2          4        1    ontime  \n",
      "3          4        1    ontime  \n",
      "4          4        1    ontime  \n",
      "...      ...      ...       ...  \n",
      "2196       6       31    ontime  \n",
      "2197       6       31    ontime  \n",
      "2198       6       31    ontime  \n",
      "2199       6       31    ontime  \n",
      "2200       6       31    ontime  \n",
      "\n",
      "[2201 rows x 11 columns]\n"
     ]
    }
   ],
   "source": [
    "# Create data frame for Flight delays data set. \n",
    "flight_df = pd.read_csv('FlightDelays.csv')\n",
    "\n",
    "# Show the Riding Mower data frame.\n",
    "print(flight_df)"
   ]
  },
  {
   "cell_type": "code",
   "execution_count": 34,
   "id": "28f73897",
   "metadata": {},
   "outputs": [
    {
     "name": "stdout",
     "output_type": "stream",
     "text": [
      "Number of rows in the dataframe:  2201\n",
      "Number of columns in the dataframe:  11\n",
      "Shape of the dataframe (rows , columns): (2201, 11)\n"
     ]
    }
   ],
   "source": [
    "print(\"Number of rows in the dataframe: \", flight_df.shape[0])\n",
    "print(\"Number of columns in the dataframe: \", flight_df.shape[1])\n",
    "print(\"Shape of the dataframe (rows , columns):\", flight_df.shape)"
   ]
  },
  {
   "cell_type": "code",
   "execution_count": 35,
   "id": "98523adb",
   "metadata": {},
   "outputs": [
    {
     "data": {
      "text/html": [
       "<div>\n",
       "<style scoped>\n",
       "    .dataframe tbody tr th:only-of-type {\n",
       "        vertical-align: middle;\n",
       "    }\n",
       "\n",
       "    .dataframe tbody tr th {\n",
       "        vertical-align: top;\n",
       "    }\n",
       "\n",
       "    .dataframe thead th {\n",
       "        text-align: right;\n",
       "    }\n",
       "</style>\n",
       "<table border=\"1\" class=\"dataframe\">\n",
       "  <thead>\n",
       "    <tr style=\"text-align: right;\">\n",
       "      <th></th>\n",
       "      <th>SCH_TIME</th>\n",
       "      <th>CARRIER</th>\n",
       "      <th>DEP_TIME</th>\n",
       "      <th>DISTANCE</th>\n",
       "      <th>FL_NUM</th>\n",
       "      <th>WEATHER</th>\n",
       "      <th>WK_DAY</th>\n",
       "      <th>MTH_DAY</th>\n",
       "      <th>FL_STATUS</th>\n",
       "    </tr>\n",
       "  </thead>\n",
       "  <tbody>\n",
       "    <tr>\n",
       "      <th>0</th>\n",
       "      <td>1455</td>\n",
       "      <td>OH</td>\n",
       "      <td>1455</td>\n",
       "      <td>184</td>\n",
       "      <td>5935</td>\n",
       "      <td>0</td>\n",
       "      <td>4</td>\n",
       "      <td>1</td>\n",
       "      <td>ontime</td>\n",
       "    </tr>\n",
       "    <tr>\n",
       "      <th>1</th>\n",
       "      <td>1640</td>\n",
       "      <td>DH</td>\n",
       "      <td>1640</td>\n",
       "      <td>213</td>\n",
       "      <td>6155</td>\n",
       "      <td>0</td>\n",
       "      <td>4</td>\n",
       "      <td>1</td>\n",
       "      <td>ontime</td>\n",
       "    </tr>\n",
       "    <tr>\n",
       "      <th>2</th>\n",
       "      <td>1245</td>\n",
       "      <td>DH</td>\n",
       "      <td>1245</td>\n",
       "      <td>229</td>\n",
       "      <td>7208</td>\n",
       "      <td>0</td>\n",
       "      <td>4</td>\n",
       "      <td>1</td>\n",
       "      <td>ontime</td>\n",
       "    </tr>\n",
       "    <tr>\n",
       "      <th>3</th>\n",
       "      <td>1715</td>\n",
       "      <td>DH</td>\n",
       "      <td>1709</td>\n",
       "      <td>229</td>\n",
       "      <td>7215</td>\n",
       "      <td>0</td>\n",
       "      <td>4</td>\n",
       "      <td>1</td>\n",
       "      <td>ontime</td>\n",
       "    </tr>\n",
       "    <tr>\n",
       "      <th>4</th>\n",
       "      <td>1039</td>\n",
       "      <td>DH</td>\n",
       "      <td>1035</td>\n",
       "      <td>229</td>\n",
       "      <td>7792</td>\n",
       "      <td>0</td>\n",
       "      <td>4</td>\n",
       "      <td>1</td>\n",
       "      <td>ontime</td>\n",
       "    </tr>\n",
       "    <tr>\n",
       "      <th>...</th>\n",
       "      <td>...</td>\n",
       "      <td>...</td>\n",
       "      <td>...</td>\n",
       "      <td>...</td>\n",
       "      <td>...</td>\n",
       "      <td>...</td>\n",
       "      <td>...</td>\n",
       "      <td>...</td>\n",
       "      <td>...</td>\n",
       "    </tr>\n",
       "    <tr>\n",
       "      <th>2196</th>\n",
       "      <td>645</td>\n",
       "      <td>RU</td>\n",
       "      <td>644</td>\n",
       "      <td>199</td>\n",
       "      <td>2761</td>\n",
       "      <td>0</td>\n",
       "      <td>6</td>\n",
       "      <td>31</td>\n",
       "      <td>ontime</td>\n",
       "    </tr>\n",
       "    <tr>\n",
       "      <th>2197</th>\n",
       "      <td>1700</td>\n",
       "      <td>RU</td>\n",
       "      <td>1653</td>\n",
       "      <td>213</td>\n",
       "      <td>2497</td>\n",
       "      <td>0</td>\n",
       "      <td>6</td>\n",
       "      <td>31</td>\n",
       "      <td>ontime</td>\n",
       "    </tr>\n",
       "    <tr>\n",
       "      <th>2198</th>\n",
       "      <td>1600</td>\n",
       "      <td>RU</td>\n",
       "      <td>1558</td>\n",
       "      <td>199</td>\n",
       "      <td>2361</td>\n",
       "      <td>0</td>\n",
       "      <td>6</td>\n",
       "      <td>31</td>\n",
       "      <td>ontime</td>\n",
       "    </tr>\n",
       "    <tr>\n",
       "      <th>2199</th>\n",
       "      <td>1359</td>\n",
       "      <td>RU</td>\n",
       "      <td>1403</td>\n",
       "      <td>199</td>\n",
       "      <td>2216</td>\n",
       "      <td>0</td>\n",
       "      <td>6</td>\n",
       "      <td>31</td>\n",
       "      <td>ontime</td>\n",
       "    </tr>\n",
       "    <tr>\n",
       "      <th>2200</th>\n",
       "      <td>1730</td>\n",
       "      <td>RU</td>\n",
       "      <td>1736</td>\n",
       "      <td>199</td>\n",
       "      <td>2097</td>\n",
       "      <td>0</td>\n",
       "      <td>6</td>\n",
       "      <td>31</td>\n",
       "      <td>ontime</td>\n",
       "    </tr>\n",
       "  </tbody>\n",
       "</table>\n",
       "<p>2201 rows × 9 columns</p>\n",
       "</div>"
      ],
      "text/plain": [
       "      SCH_TIME CARRIER  DEP_TIME  DISTANCE  FL_NUM  WEATHER  WK_DAY  MTH_DAY  \\\n",
       "0         1455      OH      1455       184    5935        0       4        1   \n",
       "1         1640      DH      1640       213    6155        0       4        1   \n",
       "2         1245      DH      1245       229    7208        0       4        1   \n",
       "3         1715      DH      1709       229    7215        0       4        1   \n",
       "4         1039      DH      1035       229    7792        0       4        1   \n",
       "...        ...     ...       ...       ...     ...      ...     ...      ...   \n",
       "2196       645      RU       644       199    2761        0       6       31   \n",
       "2197      1700      RU      1653       213    2497        0       6       31   \n",
       "2198      1600      RU      1558       199    2361        0       6       31   \n",
       "2199      1359      RU      1403       199    2216        0       6       31   \n",
       "2200      1730      RU      1736       199    2097        0       6       31   \n",
       "\n",
       "     FL_STATUS  \n",
       "0       ontime  \n",
       "1       ontime  \n",
       "2       ontime  \n",
       "3       ontime  \n",
       "4       ontime  \n",
       "...        ...  \n",
       "2196    ontime  \n",
       "2197    ontime  \n",
       "2198    ontime  \n",
       "2199    ontime  \n",
       "2200    ontime  \n",
       "\n",
       "[2201 rows x 9 columns]"
      ]
     },
     "execution_count": 35,
     "metadata": {},
     "output_type": "execute_result"
    }
   ],
   "source": [
    "flight_df = flight_df.drop(columns = ['DEST', 'ORIGIN'])#Drop irrelevant columns \n",
    "flight_df"
   ]
  },
  {
   "cell_type": "code",
   "execution_count": 36,
   "id": "88dfa82c",
   "metadata": {},
   "outputs": [
    {
     "name": "stdout",
     "output_type": "stream",
     "text": [
      "Columns data types in flight_df data frame:\n"
     ]
    },
    {
     "data": {
      "text/plain": [
       "SCH_TIME      int64\n",
       "CARRIER      object\n",
       "DEP_TIME      int64\n",
       "DISTANCE      int64\n",
       "FL_NUM        int64\n",
       "WEATHER       int64\n",
       "WK_DAY        int64\n",
       "MTH_DAY       int64\n",
       "FL_STATUS    object\n",
       "dtype: object"
      ]
     },
     "execution_count": 36,
     "metadata": {},
     "output_type": "execute_result"
    }
   ],
   "source": [
    "print(\"Columns data types in flight_df data frame:\")\n",
    "flight_df.dtypes"
   ]
  },
  {
   "cell_type": "code",
   "execution_count": 37,
   "id": "d5b92b7d",
   "metadata": {},
   "outputs": [],
   "source": [
    "# flight_df.FL_STATUS = flight_df.FL_STATUS.astype(\"category\") \n",
    "# print(flight_df.FL_STATUS.cat.categories)\n",
    "# print(flight_df.FL_STATUS.dtype)"
   ]
  },
  {
   "cell_type": "code",
   "execution_count": 38,
   "id": "1871dd70",
   "metadata": {},
   "outputs": [
    {
     "name": "stdout",
     "output_type": "stream",
     "text": [
      "Index(['CO', 'DH', 'DL', 'MQ', 'OH', 'RU', 'UA', 'US'], dtype='object')\n",
      "category\n",
      "Index(['delayed', 'ontime'], dtype='object')\n",
      "category\n"
     ]
    }
   ],
   "source": [
    "flight_df.CARRIER = flight_df.CARRIER.astype(\"category\") \n",
    "print(flight_df.CARRIER.cat.categories)\n",
    "print(flight_df.CARRIER.dtype)\n",
    "\n",
    "flight_df.FL_STATUS = flight_df.FL_STATUS.astype(\"category\") \n",
    "print(flight_df.FL_STATUS.cat.categories)\n",
    "print(flight_df.FL_STATUS.dtype)"
   ]
  },
  {
   "cell_type": "code",
   "execution_count": 39,
   "id": "5313540f",
   "metadata": {
    "scrolled": true
   },
   "outputs": [
    {
     "name": "stdout",
     "output_type": "stream",
     "text": [
      "List of 15 columns including outcome variable:\n"
     ]
    },
    {
     "data": {
      "text/plain": [
       "Index(['SCH_TIME', 'DEP_TIME', 'DISTANCE', 'FL_NUM', 'WEATHER', 'WK_DAY',\n",
       "       'MTH_DAY', 'CARRIER_DH', 'CARRIER_DL', 'CARRIER_MQ', 'CARRIER_OH',\n",
       "       'CARRIER_RU', 'CARRIER_UA', 'CARRIER_US', 'FL_STATUS_ontime'],\n",
       "      dtype='object')"
      ]
     },
     "execution_count": 39,
     "metadata": {},
     "output_type": "execute_result"
    }
   ],
   "source": [
    "flight_df = pd.get_dummies(flight_df, prefix_sep='_', drop_first = True)\n",
    "print(f\"List of {len(flight_df.columns)} columns including outcome variable:\")\n",
    "flight_df.columns"
   ]
  },
  {
   "cell_type": "code",
   "execution_count": 40,
   "id": "f8504780",
   "metadata": {},
   "outputs": [
    {
     "name": "stdout",
     "output_type": "stream",
     "text": [
      "Modified data types of columns in data frame:\n"
     ]
    },
    {
     "data": {
      "text/plain": [
       "SCH_TIME            int64\n",
       "DEP_TIME            int64\n",
       "DISTANCE            int64\n",
       "FL_NUM              int64\n",
       "WEATHER             int64\n",
       "WK_DAY              int64\n",
       "MTH_DAY             int64\n",
       "CARRIER_DH          uint8\n",
       "CARRIER_DL          uint8\n",
       "CARRIER_MQ          uint8\n",
       "CARRIER_OH          uint8\n",
       "CARRIER_RU          uint8\n",
       "CARRIER_UA          uint8\n",
       "CARRIER_US          uint8\n",
       "FL_STATUS_ontime    uint8\n",
       "dtype: object"
      ]
     },
     "execution_count": 40,
     "metadata": {},
     "output_type": "execute_result"
    }
   ],
   "source": [
    "print(\"Modified data types of columns in data frame:\")\n",
    "flight_df.dtypes"
   ]
  },
  {
   "cell_type": "code",
   "execution_count": 41,
   "id": "70b0c12d",
   "metadata": {
    "scrolled": true
   },
   "outputs": [
    {
     "data": {
      "text/plain": [
       "SCH_TIME            2201\n",
       "DEP_TIME            2201\n",
       "DISTANCE            2201\n",
       "FL_NUM              2201\n",
       "WEATHER             2201\n",
       "WK_DAY              2201\n",
       "MTH_DAY             2201\n",
       "CARRIER_DH          2201\n",
       "CARRIER_DL          2201\n",
       "CARRIER_MQ          2201\n",
       "CARRIER_OH          2201\n",
       "CARRIER_RU          2201\n",
       "CARRIER_UA          2201\n",
       "CARRIER_US          2201\n",
       "FL_STATUS_ontime    2201\n",
       "dtype: int64"
      ]
     },
     "execution_count": 41,
     "metadata": {},
     "output_type": "execute_result"
    }
   ],
   "source": [
    "flight_df.count() #no missing values "
   ]
  },
  {
   "cell_type": "code",
   "execution_count": 42,
   "id": "a3b6e0e7",
   "metadata": {
    "scrolled": false
   },
   "outputs": [
    {
     "name": "stdout",
     "output_type": "stream",
     "text": [
      "Modified data frame:\n"
     ]
    },
    {
     "data": {
      "text/html": [
       "<div>\n",
       "<style scoped>\n",
       "    .dataframe tbody tr th:only-of-type {\n",
       "        vertical-align: middle;\n",
       "    }\n",
       "\n",
       "    .dataframe tbody tr th {\n",
       "        vertical-align: top;\n",
       "    }\n",
       "\n",
       "    .dataframe thead th {\n",
       "        text-align: right;\n",
       "    }\n",
       "</style>\n",
       "<table border=\"1\" class=\"dataframe\">\n",
       "  <thead>\n",
       "    <tr style=\"text-align: right;\">\n",
       "      <th></th>\n",
       "      <th>SCH_TIME</th>\n",
       "      <th>DEP_TIME</th>\n",
       "      <th>DISTANCE</th>\n",
       "      <th>FL_NUM</th>\n",
       "      <th>WEATHER</th>\n",
       "      <th>WK_DAY</th>\n",
       "      <th>MTH_DAY</th>\n",
       "      <th>CARRIER_DH</th>\n",
       "      <th>CARRIER_DL</th>\n",
       "      <th>CARRIER_MQ</th>\n",
       "      <th>CARRIER_OH</th>\n",
       "      <th>CARRIER_RU</th>\n",
       "      <th>CARRIER_UA</th>\n",
       "      <th>CARRIER_US</th>\n",
       "      <th>FL_STATUS_ontime</th>\n",
       "    </tr>\n",
       "  </thead>\n",
       "  <tbody>\n",
       "    <tr>\n",
       "      <th>0</th>\n",
       "      <td>1455</td>\n",
       "      <td>1455</td>\n",
       "      <td>184</td>\n",
       "      <td>5935</td>\n",
       "      <td>0</td>\n",
       "      <td>4</td>\n",
       "      <td>1</td>\n",
       "      <td>0</td>\n",
       "      <td>0</td>\n",
       "      <td>0</td>\n",
       "      <td>1</td>\n",
       "      <td>0</td>\n",
       "      <td>0</td>\n",
       "      <td>0</td>\n",
       "      <td>1</td>\n",
       "    </tr>\n",
       "    <tr>\n",
       "      <th>1</th>\n",
       "      <td>1640</td>\n",
       "      <td>1640</td>\n",
       "      <td>213</td>\n",
       "      <td>6155</td>\n",
       "      <td>0</td>\n",
       "      <td>4</td>\n",
       "      <td>1</td>\n",
       "      <td>1</td>\n",
       "      <td>0</td>\n",
       "      <td>0</td>\n",
       "      <td>0</td>\n",
       "      <td>0</td>\n",
       "      <td>0</td>\n",
       "      <td>0</td>\n",
       "      <td>1</td>\n",
       "    </tr>\n",
       "    <tr>\n",
       "      <th>2</th>\n",
       "      <td>1245</td>\n",
       "      <td>1245</td>\n",
       "      <td>229</td>\n",
       "      <td>7208</td>\n",
       "      <td>0</td>\n",
       "      <td>4</td>\n",
       "      <td>1</td>\n",
       "      <td>1</td>\n",
       "      <td>0</td>\n",
       "      <td>0</td>\n",
       "      <td>0</td>\n",
       "      <td>0</td>\n",
       "      <td>0</td>\n",
       "      <td>0</td>\n",
       "      <td>1</td>\n",
       "    </tr>\n",
       "    <tr>\n",
       "      <th>3</th>\n",
       "      <td>1715</td>\n",
       "      <td>1709</td>\n",
       "      <td>229</td>\n",
       "      <td>7215</td>\n",
       "      <td>0</td>\n",
       "      <td>4</td>\n",
       "      <td>1</td>\n",
       "      <td>1</td>\n",
       "      <td>0</td>\n",
       "      <td>0</td>\n",
       "      <td>0</td>\n",
       "      <td>0</td>\n",
       "      <td>0</td>\n",
       "      <td>0</td>\n",
       "      <td>1</td>\n",
       "    </tr>\n",
       "    <tr>\n",
       "      <th>4</th>\n",
       "      <td>1039</td>\n",
       "      <td>1035</td>\n",
       "      <td>229</td>\n",
       "      <td>7792</td>\n",
       "      <td>0</td>\n",
       "      <td>4</td>\n",
       "      <td>1</td>\n",
       "      <td>1</td>\n",
       "      <td>0</td>\n",
       "      <td>0</td>\n",
       "      <td>0</td>\n",
       "      <td>0</td>\n",
       "      <td>0</td>\n",
       "      <td>0</td>\n",
       "      <td>1</td>\n",
       "    </tr>\n",
       "    <tr>\n",
       "      <th>5</th>\n",
       "      <td>840</td>\n",
       "      <td>839</td>\n",
       "      <td>228</td>\n",
       "      <td>7800</td>\n",
       "      <td>0</td>\n",
       "      <td>4</td>\n",
       "      <td>1</td>\n",
       "      <td>1</td>\n",
       "      <td>0</td>\n",
       "      <td>0</td>\n",
       "      <td>0</td>\n",
       "      <td>0</td>\n",
       "      <td>0</td>\n",
       "      <td>0</td>\n",
       "      <td>1</td>\n",
       "    </tr>\n",
       "    <tr>\n",
       "      <th>6</th>\n",
       "      <td>1240</td>\n",
       "      <td>1243</td>\n",
       "      <td>228</td>\n",
       "      <td>7806</td>\n",
       "      <td>0</td>\n",
       "      <td>4</td>\n",
       "      <td>1</td>\n",
       "      <td>1</td>\n",
       "      <td>0</td>\n",
       "      <td>0</td>\n",
       "      <td>0</td>\n",
       "      <td>0</td>\n",
       "      <td>0</td>\n",
       "      <td>0</td>\n",
       "      <td>1</td>\n",
       "    </tr>\n",
       "    <tr>\n",
       "      <th>7</th>\n",
       "      <td>1645</td>\n",
       "      <td>1644</td>\n",
       "      <td>228</td>\n",
       "      <td>7810</td>\n",
       "      <td>0</td>\n",
       "      <td>4</td>\n",
       "      <td>1</td>\n",
       "      <td>1</td>\n",
       "      <td>0</td>\n",
       "      <td>0</td>\n",
       "      <td>0</td>\n",
       "      <td>0</td>\n",
       "      <td>0</td>\n",
       "      <td>0</td>\n",
       "      <td>1</td>\n",
       "    </tr>\n",
       "    <tr>\n",
       "      <th>8</th>\n",
       "      <td>1715</td>\n",
       "      <td>1710</td>\n",
       "      <td>228</td>\n",
       "      <td>7812</td>\n",
       "      <td>0</td>\n",
       "      <td>4</td>\n",
       "      <td>1</td>\n",
       "      <td>1</td>\n",
       "      <td>0</td>\n",
       "      <td>0</td>\n",
       "      <td>0</td>\n",
       "      <td>0</td>\n",
       "      <td>0</td>\n",
       "      <td>0</td>\n",
       "      <td>1</td>\n",
       "    </tr>\n",
       "    <tr>\n",
       "      <th>9</th>\n",
       "      <td>2120</td>\n",
       "      <td>2129</td>\n",
       "      <td>228</td>\n",
       "      <td>7814</td>\n",
       "      <td>0</td>\n",
       "      <td>4</td>\n",
       "      <td>1</td>\n",
       "      <td>1</td>\n",
       "      <td>0</td>\n",
       "      <td>0</td>\n",
       "      <td>0</td>\n",
       "      <td>0</td>\n",
       "      <td>0</td>\n",
       "      <td>0</td>\n",
       "      <td>1</td>\n",
       "    </tr>\n",
       "  </tbody>\n",
       "</table>\n",
       "</div>"
      ],
      "text/plain": [
       "   SCH_TIME  DEP_TIME  DISTANCE  FL_NUM  WEATHER  WK_DAY  MTH_DAY  CARRIER_DH  \\\n",
       "0      1455      1455       184    5935        0       4        1           0   \n",
       "1      1640      1640       213    6155        0       4        1           1   \n",
       "2      1245      1245       229    7208        0       4        1           1   \n",
       "3      1715      1709       229    7215        0       4        1           1   \n",
       "4      1039      1035       229    7792        0       4        1           1   \n",
       "5       840       839       228    7800        0       4        1           1   \n",
       "6      1240      1243       228    7806        0       4        1           1   \n",
       "7      1645      1644       228    7810        0       4        1           1   \n",
       "8      1715      1710       228    7812        0       4        1           1   \n",
       "9      2120      2129       228    7814        0       4        1           1   \n",
       "\n",
       "   CARRIER_DL  CARRIER_MQ  CARRIER_OH  CARRIER_RU  CARRIER_UA  CARRIER_US  \\\n",
       "0           0           0           1           0           0           0   \n",
       "1           0           0           0           0           0           0   \n",
       "2           0           0           0           0           0           0   \n",
       "3           0           0           0           0           0           0   \n",
       "4           0           0           0           0           0           0   \n",
       "5           0           0           0           0           0           0   \n",
       "6           0           0           0           0           0           0   \n",
       "7           0           0           0           0           0           0   \n",
       "8           0           0           0           0           0           0   \n",
       "9           0           0           0           0           0           0   \n",
       "\n",
       "   FL_STATUS_ontime  \n",
       "0                 1  \n",
       "1                 1  \n",
       "2                 1  \n",
       "3                 1  \n",
       "4                 1  \n",
       "5                 1  \n",
       "6                 1  \n",
       "7                 1  \n",
       "8                 1  \n",
       "9                 1  "
      ]
     },
     "execution_count": 42,
     "metadata": {},
     "output_type": "execute_result"
    }
   ],
   "source": [
    "print(\"Modified data frame:\")\n",
    "flight_df.head(10)"
   ]
  },
  {
   "cell_type": "code",
   "execution_count": 54,
   "id": "797fa162",
   "metadata": {},
   "outputs": [
    {
     "name": "stdout",
     "output_type": "stream",
     "text": [
      "The 19.445706497046796 percent of records have FL_STATUS as delayed\n"
     ]
    }
   ],
   "source": [
    "print(f\"The {((len(flight_df['FL_STATUS_ontime'][flight_df.FL_STATUS_ontime==0])/len(flight_df))*100)} percent of records have FL_STATUS as delayed\")"
   ]
  },
  {
   "cell_type": "markdown",
   "id": "af79ae83",
   "metadata": {},
   "source": [
    "## Develop and run logistic regression for Flight delay data using multiple predictors."
   ]
  },
  {
   "cell_type": "code",
   "execution_count": 17,
   "id": "eaca129f",
   "metadata": {},
   "outputs": [
    {
     "name": "stdout",
     "output_type": "stream",
     "text": [
      "Number of records of training and valid/testing data are:  1320 and 881 \n",
      "\n",
      "Parameters of Logistic Regresion Model with Multiple Predictors\n",
      "Intercept: 0.051\n",
      "Coefficients for Predictors\n",
      "        SCH_TIME  DEP_TIME  DISTANCE  FL_NUM  WEATHER  WK_DAY  MTH_DAY  \\\n",
      "Coeff:     0.033    -0.034     0.009     0.0   -0.247   0.097   -0.021   \n",
      "\n",
      "        CARRIER_DH  CARRIER_DL  CARRIER_MQ  CARRIER_OH  CARRIER_RU  \\\n",
      "Coeff:        0.35       0.782      -1.054       0.236       -0.05   \n",
      "\n",
      "        CARRIER_UA  CARRIER_US  \n",
      "Coeff:       0.053      -0.043  \n"
     ]
    }
   ],
   "source": [
    "# Create predictors X and outcome y variables.\n",
    "X = flight_df.drop(columns=['FL_STATUS_ontime'])\n",
    "y = flight_df['FL_STATUS_ontime']\n",
    "\n",
    "# Partition data into training (60% or 0.6) and validation(40% or 0.4)\n",
    "# of the bank_df data frame.\n",
    "train_X, valid_X, train_y, valid_y = train_test_split(X, y, \n",
    "                            test_size=0.4, random_state=1)\n",
    "\n",
    "print(\"Number of records of training and valid/testing data are: \", len(train_X), \"and\", len(valid_X), \"\\n\")\n",
    "\n",
    "# Using LogisticRegression() function, fit multiple predictors logistic \n",
    "# regression for training partition. Set penalty='l2' for regularization. \n",
    "# Regularization is any modification to a learning algorithm that is \n",
    "# intended to reduce its generalization error but not its training error.\n",
    "# Regularization can be used to train models that generalize \n",
    "# better on unseen data by preventing the algorithm from overfitting \n",
    "# the training data set.\n",
    "# Parameter C=1e42 and penalty=l2 lead to ordinal logistic regression. \n",
    "# solver='liblinear' is used for automated selection of the best parameters\n",
    "# of the logistis regression; recommended for large-scale classification.\n",
    "log_reg = LogisticRegression(penalty='l2', C=1e42, solver='liblinear')\n",
    "log_reg.fit(train_X, train_y)\n",
    "\n",
    "# Show intercept and coefficients of the multiple predictors' logistic model.\n",
    "print('Parameters of Logistic Regresion Model with Multiple Predictors')\n",
    "print('Intercept:', np.round(log_reg.intercept_[0], decimals=3))\n",
    "print('Coefficients for Predictors')\n",
    "print(pd.DataFrame({'Coeff:': np.round(log_reg.coef_[0], decimals=3)}, \n",
    "                    index=X.columns).transpose())"
   ]
  },
  {
   "cell_type": "code",
   "execution_count": 18,
   "id": "d43cff24",
   "metadata": {},
   "outputs": [
    {
     "name": "stdout",
     "output_type": "stream",
     "text": [
      "Classification for Validation Partition\n",
      "      Actual  Classification    p(0)    p(1)\n",
      "1276       1               1  0.1392  0.8608\n",
      "1446       1               1  0.0795  0.9205\n",
      "335        1               1  0.0916  0.9084\n",
      "1458       1               1  0.1136  0.8864\n",
      "2038       1               1  0.0738  0.9262\n",
      "1314       1               1  0.0672  0.9328\n",
      "389        1               1  0.1599  0.8401\n",
      "1639       1               1  0.1263  0.8737\n",
      "2004       1               1  0.0951  0.9049\n",
      "403        1               1  0.3002  0.6998\n",
      "979        1               1  0.0488  0.9512\n",
      "65         1               1  0.0691  0.9309\n",
      "2105       1               1  0.1434  0.8566\n",
      "1162       1               1  0.1037  0.8963\n",
      "572        1               1  0.3036  0.6964\n",
      "1026       0               1  0.0649  0.9351\n",
      "1044       1               0  0.5242  0.4758\n",
      "1846       0               1  0.4611  0.5389\n",
      "1005       1               1  0.1545  0.8455\n",
      "1677       1               1  0.0503  0.9497\n"
     ]
    }
   ],
   "source": [
    "# Make predictions for validation set using multiple\n",
    "# predictors logistic regression model. \n",
    "\n",
    "# Predict multiple predictors logistic model's results \n",
    "# (0 or 1) for validation set.\n",
    "log_pred = log_reg.predict(valid_X)\n",
    "\n",
    "# Predict multiple predictors logistic model's probabilities \n",
    "# p(0) and p(1) for validation set.\n",
    "log_prob = np.round(log_reg.predict_proba(valid_X), decimals=4)\n",
    "\n",
    "# Create data frame to show multiple predictors logistic\n",
    "# model resuts for validation set. \n",
    "log_result = pd.DataFrame({'Actual': valid_y, \n",
    "                    'Classification': log_pred,\n",
    "                    'p(0)': [p[0] for p in log_prob],\n",
    "                    'p(1)': [p[1] for p in log_prob]\n",
    "})\n",
    "\n",
    "print('Classification for Validation Partition')\n",
    "print(log_result.head(20))"
   ]
  },
  {
   "cell_type": "code",
   "execution_count": 19,
   "id": "e84e9033",
   "metadata": {},
   "outputs": [
    {
     "name": "stdout",
     "output_type": "stream",
     "text": [
      "Training Partition\n",
      "Confusion Matrix (Accuracy 0.9015)\n",
      "\n",
      "       Prediction\n",
      "Actual    0    1\n",
      "     0  141  120\n",
      "     1   10 1049\n",
      "\n",
      "Validation Partition\n",
      "Confusion Matrix (Accuracy 0.8990)\n",
      "\n",
      "       Prediction\n",
      "Actual   0   1\n",
      "     0  90  77\n",
      "     1  12 702\n"
     ]
    }
   ],
   "source": [
    "# Confusion matrices for multiple predictors logistic model. \n",
    "\n",
    "# Identify and display confusion matrix for training partition. \n",
    "print('Training Partition')\n",
    "classificationSummary(train_y, log_reg.predict(train_X))\n",
    "\n",
    "# Identify and display confusion matrix for validation partition. \n",
    "print()\n",
    "print('Validation Partition')\n",
    "classificationSummary(valid_y, log_reg.predict(valid_X))"
   ]
  },
  {
   "cell_type": "code",
   "execution_count": 29,
   "id": "1cc68a2b",
   "metadata": {},
   "outputs": [
    {
     "data": {
      "image/png": "[encoded data removed]",
      "text/plain": [
       "<Figure size 720x288 with 2 Axes>"
      ]
     },
     "metadata": {
      "needs_background": "light"
     },
     "output_type": "display_data"
    }
   ],
   "source": [
    "# Develop and display Gains chart and Lift chart. \n",
    "\n",
    "# Create a new df data frame from logit_result data frame\n",
    "# that is sorted by p(1) in descending order.  \n",
    "df = log_result.sort_values(by=['p(0)'], ascending=False)\n",
    "\n",
    "# Create a data plot with two plots (ncols=2) \n",
    "# back-to-back (nrows=1).\n",
    "fig, axes = plt.subplots(nrows=1, ncols=2, figsize=(10, 4))\n",
    "\n",
    "# Using gainsChart() function, create Gains chart. \n",
    "# In the Gains chart, the 'lift' over the base curve \n",
    "# indicates for a given number of cases (on x-axis), \n",
    "# the additional responders that you can identify \n",
    "# by using the logistic regression model.\n",
    "gainsChart(df.Actual, ax=axes[0], color='Blue')\n",
    "\n",
    "# Using liftChart() function, create decile-wise Lift chart. \n",
    "# In this Lift chart, taking the 10% of the records \n",
    "# that are ranked by the model as 'most probable 0's' \n",
    "# yields 4.1 times as many 0's as would simply selecting \n",
    "# 10% of the records at random.\n",
    "liftChart(df['p(0)'], title=False, ax=axes[1])\n",
    " \n",
    "# Display the charts. \n",
    "plt.tight_layout()\n",
    "plt.show()"
   ]
  },
  {
   "cell_type": "code",
   "execution_count": 19,
   "id": "77a65ef5",
   "metadata": {
    "scrolled": true
   },
   "outputs": [
    {
     "data": {
      "image/png": "[encoded data removed]",
      "text/plain": [
       "<Figure size 576x288 with 1 Axes>"
      ]
     },
     "metadata": {
      "needs_background": "light"
     },
     "output_type": "display_data"
    }
   ],
   "source": [
    "# Develop and display Lift chart. \n",
    "\n",
    "# Create a new df data frame from logit_result data frame\n",
    "# that is sorted by p(1) in descending order.  \n",
    "df = log_result.sort_values(by=['p(0)'], ascending=False)\n",
    "\n",
    "# Create a data plot with two plots (ncols=2) \n",
    "# back-to-back (nrows=1).\n",
    "fig, axes = plt.subplots(nrows=1, ncols=1, figsize=(8, 4))\n",
    "\n",
    "# Using liftChart() function, create decile-wise Lift chart. \n",
    "# In this Lift chart, taking the 10% of the records \n",
    "# that are ranked by the model as 'most probable 0's' \n",
    "# yields 4.1 times as many 0's as would simply selecting \n",
    "# 10% of the records at random.\n",
    "liftChart(df['p(0)'], title=False)\n",
    " \n",
    "# Display the charts. \n",
    "plt.tight_layout()\n",
    "plt.show()"
   ]
  },
  {
   "cell_type": "markdown",
   "id": "caa57720",
   "metadata": {},
   "source": [
    "## Best predictors using Backward elimination algorithm:"
   ]
  },
  {
   "cell_type": "code",
   "execution_count": 55,
   "id": "744e86f0",
   "metadata": {},
   "outputs": [
    {
     "name": "stdout",
     "output_type": "stream",
     "text": [
      "Variables: SCH_TIME, DEP_TIME, DISTANCE, FL_NUM, WEATHER, WK_DAY, MTH_DAY, CARRIER_DH, CARRIER_DL, CARRIER_MQ, CARRIER_OH, CARRIER_RU, CARRIER_UA, CARRIER_US\n",
      "Start: score=692.43\n",
      "Step: score=608.59, remove FL_NUM\n"
     ]
    },
    {
     "name": "stderr",
     "output_type": "stream",
     "text": [
      "C:\\ProgramData\\Anaconda3\\lib\\site-packages\\sklearn\\linear_model\\_logistic.py:763: ConvergenceWarning: lbfgs failed to converge (status=1):\n",
      "STOP: TOTAL NO. of ITERATIONS REACHED LIMIT.\n",
      "\n",
      "Increase the number of iterations (max_iter) or scale the data as shown in:\n",
      "    https://scikit-learn.org/stable/modules/preprocessing.html\n",
      "Please also refer to the documentation for alternative solver options:\n",
      "    https://scikit-learn.org/stable/modules/linear_model.html#logistic-regression\n",
      "  n_iter_i = _check_optimize_result(\n"
     ]
    },
    {
     "name": "stdout",
     "output_type": "stream",
     "text": [
      "Step: score=586.78, remove WK_DAY\n",
      "Step: score=575.73, remove CARRIER_RU\n",
      "Step: score=575.73, remove None\n",
      "\n",
      "Best Variables from Backward Elimination Algorithm\n",
      "['SCH_TIME', 'DEP_TIME', 'DISTANCE', 'WEATHER', 'MTH_DAY', 'CARRIER_DH', 'CARRIER_DL', 'CARRIER_MQ', 'CARRIER_OH', 'CARRIER_UA', 'CARRIER_US']\n"
     ]
    }
   ],
   "source": [
    "# Define train_model() function used in Backward Elimination\n",
    "# algorithm with backward_elimination() function. \n",
    "def train_model(variables):\n",
    "    model = LogisticRegression(max_iter = 500) #LogisticRegrassion with 500 iterations\n",
    "    model.fit(train_X[variables], train_y)\n",
    "    return model\n",
    "\n",
    "# Define score_model() function used in Backward Elimination\n",
    "# algorithm with backward_elimination() function. \n",
    "def score_model(model, variables):\n",
    "    return AIC_score(train_y, model.predict(train_X[variables]), model)\n",
    "\n",
    "# Use backward_elimination() function to identify the\n",
    "# best_model and best_variables. \n",
    "best_model_be, best_variables_be = backward_elimination(train_X.columns, \n",
    "                        train_model, score_model, verbose=True)\n",
    "\n",
    "# Display best variables based on Backward Elimination algorithm. \n",
    "print()\n",
    "print('Best Variables from Backward Elimination Algorithm')\n",
    "print(best_variables_be)"
   ]
  },
  {
   "cell_type": "code",
   "execution_count": 56,
   "id": "5042cc1b",
   "metadata": {},
   "outputs": [
    {
     "name": "stdout",
     "output_type": "stream",
     "text": [
      "Variables: SCH_TIME, DEP_TIME, DISTANCE, FL_NUM, WEATHER, WK_DAY, MTH_DAY, CARRIER_DH, CARRIER_DL, CARRIER_MQ, CARRIER_OH, CARRIER_RU, CARRIER_UA, CARRIER_US\n",
      "Start: score=692.43\n",
      "Step: score=608.59, remove FL_NUM\n",
      "Step: score=586.78, remove WK_DAY\n",
      "Step: score=575.73, remove CARRIER_RU\n",
      "Step: score=575.73, remove None\n",
      "\n",
      "Best Variables from Backward Elimination Algorithm\n",
      "['SCH_TIME', 'DEP_TIME', 'DISTANCE', 'WEATHER', 'MTH_DAY', 'CARRIER_DH', 'CARRIER_DL', 'CARRIER_MQ', 'CARRIER_OH', 'CARRIER_UA', 'CARRIER_US']\n"
     ]
    }
   ],
   "source": [
    "# Define train_model() function used in Backward Elimination\n",
    "# algorithm with backward_elimination() function. \n",
    "def train_model(variables):\n",
    "    model = LogisticRegression(max_iter = 600) #Increased to 600 iterations as instructed in the warning message \n",
    "    model.fit(train_X[variables], train_y)\n",
    "    return model\n",
    "\n",
    "# Define score_model() function used in Backward Elimination\n",
    "# algorithm with backward_elimination() function. \n",
    "def score_model(model, variables):\n",
    "    return AIC_score(train_y, model.predict(train_X[variables]), model)\n",
    "\n",
    "# Use backward_elimination() function to identify the\n",
    "# best_model and best_variables. \n",
    "best_model_be, best_variables_be = backward_elimination(train_X.columns, \n",
    "                        train_model, score_model, verbose=True)\n",
    "\n",
    "# Display best variables based on Backward Elimination algorithm. \n",
    "print()\n",
    "print('Best Variables from Backward Elimination Algorithm')\n",
    "print(best_variables_be)"
   ]
  },
  {
   "cell_type": "code",
   "execution_count": 58,
   "id": "3033bda7",
   "metadata": {},
   "outputs": [
    {
     "name": "stdout",
     "output_type": "stream",
     "text": [
      "Logistic Regression Model for Training Set Using Backward Elimination\n",
      "\n",
      "Intercept  [0.1]\n",
      "     Predictor  Coefficient\n",
      "0     SCH_TIME         0.03\n",
      "1     DEP_TIME        -0.03\n",
      "2     DISTANCE         0.01\n",
      "3      WEATHER        -0.36\n",
      "4      MTH_DAY        -0.02\n",
      "5   CARRIER_DH         0.31\n",
      "6   CARRIER_DL         0.87\n",
      "7   CARRIER_MQ        -1.17\n",
      "8   CARRIER_OH         0.32\n",
      "9   CARRIER_UA         0.09\n",
      "10  CARRIER_US        -0.05\n"
     ]
    }
   ],
   "source": [
    "# Develop the Logistic regression model based\n",
    "# on the Backward Elimination results.\n",
    "\n",
    "# Identify predictors and outcome of the regression model.\n",
    "predictors_be = ['SCH_TIME', 'DEP_TIME', 'DISTANCE', 'WEATHER', 'MTH_DAY', 'CARRIER_DH', \n",
    "                 'CARRIER_DL', 'CARRIER_MQ', 'CARRIER_OH', 'CARRIER_UA', 'CARRIER_US']\n",
    "outcome = 'FL_STATUS_ontime'\n",
    "\n",
    "# Identify X and y variables for regression and partition data\n",
    "# using 60% of records for training and 40% for validation \n",
    "# (test_size=0.4). \n",
    "X = flight_df[predictors_be]\n",
    "y = flight_df[outcome]\n",
    "train_X_be, valid_X_be, train_y_be, valid_y_be = \\\n",
    "          train_test_split(X, y, test_size=0.4, random_state=1)\n",
    "\n",
    "# Create logistic regression model using X and y.\n",
    "flight_be = LogisticRegression(penalty='l2', C=1e42, solver='liblinear')\n",
    "flight_be.fit(train_X_be, train_y_be)\n",
    "\n",
    "# Display intercept and regression coefficients. Round them\n",
    "# to 2 decimals.\n",
    "print('Logistic Regression Model for Training Set Using Backward Elimination')\n",
    "print()\n",
    "print('Intercept ', np.round(flight_be.intercept_, 2))\n",
    "print(pd.DataFrame({'Predictor': X.columns,\n",
    "            'Coefficient': np.round(flight_be.coef_[0], 2)}))"
   ]
  },
  {
   "cell_type": "code",
   "execution_count": 59,
   "id": "648e4623",
   "metadata": {},
   "outputs": [
    {
     "name": "stdout",
     "output_type": "stream",
     "text": [
      "Training Partition\n",
      "Confusion Matrix (Accuracy 0.9030)\n",
      "\n",
      "       Prediction\n",
      "Actual    0    1\n",
      "     0  146  115\n",
      "     1   13 1046\n",
      "\n",
      "Validation Partition\n",
      "Confusion Matrix (Accuracy 0.8978)\n",
      "\n",
      "       Prediction\n",
      "Actual   0   1\n",
      "     0  87  80\n",
      "     1  10 704\n"
     ]
    }
   ],
   "source": [
    "# Confusion matrices for multiple predictors logistic model. \n",
    "\n",
    "# Identify and display confusion matrix for training partition. \n",
    "print('Training Partition')\n",
    "classificationSummary(train_y_be, flight_be.predict(train_X_be))\n",
    "\n",
    "# Identify and display confusion matrix for validation partition. \n",
    "print()\n",
    "print('Validation Partition')\n",
    "classificationSummary(valid_y_be, flight_be.predict(valid_X_be))"
   ]
  },
  {
   "cell_type": "code",
   "execution_count": null,
   "id": "ca2412f9",
   "metadata": {},
   "outputs": [],
   "source": []
  },
  {
   "cell_type": "code",
   "execution_count": null,
   "id": "749c94ff",
   "metadata": {},
   "outputs": [],
   "source": []
  }
 ],
 "metadata": {
  "kernelspec": {
   "display_name": "Python 3",
   "language": "python",
   "name": "python3"
  },
  "language_info": {
   "codemirror_mode": {
    "name": "ipython",
    "version": 3
   },
   "file_extension": ".py",
   "mimetype": "text/x-python",
   "name": "python",
   "nbconvert_exporter": "python",
   "pygments_lexer": "ipython3",
   "version": "3.8.8"
  }
 },
 "nbformat": 4,
 "nbformat_minor": 5
}
